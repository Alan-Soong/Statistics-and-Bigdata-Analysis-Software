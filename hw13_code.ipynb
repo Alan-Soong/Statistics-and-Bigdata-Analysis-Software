{
 "cells": [
  {
   "cell_type": "markdown",
   "metadata": {},
   "source": [
    "# 统计与大数据分析软件第十三次作业"
   ]
  },
  {
   "cell_type": "markdown",
   "metadata": {},
   "source": [
    "## 第一题"
   ]
  },
  {
   "cell_type": "markdown",
   "metadata": {},
   "source": [
    "Write R code that takes a square character matrix and checks if any of the character strings on the diagonal (top left to bottom right) begin with the letter g, lowercase or uppercase. \n",
    "\n",
    "If satisfied, these specific entries should be overwritten with the string \"HERE\". \n",
    "\n",
    "Otherwise, the entire matrix should be replaced with an identity matrix of the same dimensions. \n",
    "\n",
    "try your code on the following matrices, checking the result each time:"
   ]
  },
  {
   "cell_type": "markdown",
   "metadata": {},
   "source": [
    "这道题需要我们设计一个函数，检查方阵对角线上的值是否以g/G开头，代码如下："
   ]
  },
  {
   "cell_type": "code",
   "execution_count": 1,
   "metadata": {
    "vscode": {
     "languageId": "r"
    }
   },
   "outputs": [],
   "source": [
    "# 定义函数处理矩阵\n",
    "process_matrix <- function(mat) {\n",
    "  # 获取矩阵维度\n",
    "  n <- nrow(mat)\n",
    "  # 检查对角线元素是否有以g开头的\n",
    "  diag_elements <- diag(mat)\n",
    "  has_g <- any(grepl(\"^[gG]\", diag_elements))\n",
    "  \n",
    "  if (has_g) {\n",
    "    # 替换以g开头的对角线元素为\"HERE\"\n",
    "    for (i in 1:n) {\n",
    "      if (grepl(\"^[gG]\", mat[i, i])) {\n",
    "        mat[i, i] <- \"HERE\"\n",
    "      }\n",
    "    }\n",
    "  } else {\n",
    "    # 否则替换为单位矩阵\n",
    "    mat <- diag(n)\n",
    "  }\n",
    "  return(mat)\n",
    "}"
   ]
  },
  {
   "cell_type": "markdown",
   "metadata": {},
   "source": [
    "\n",
    "1. mymat <- matrix(as.character(1:16),4,4)\n"
   ]
  },
  {
   "cell_type": "code",
   "execution_count": 2,
   "metadata": {
    "vscode": {
     "languageId": "r"
    }
   },
   "outputs": [
    {
     "name": "stdout",
     "output_type": "stream",
     "text": [
      "     [,1] [,2] [,3] [,4]\n",
      "[1,]    1    0    0    0\n",
      "[2,]    0    1    0    0\n",
      "[3,]    0    0    1    0\n",
      "[4,]    0    0    0    1\n"
     ]
    }
   ],
   "source": [
    "# 测试矩阵i\n",
    "mymat <- matrix(as.character(1:16), 4, 4)\n",
    "print(process_matrix(mymat))"
   ]
  },
  {
   "cell_type": "markdown",
   "metadata": {},
   "source": [
    "2. mymat <- matrix(c(\"DANDELION\",\"Hyacinthus\",\"Gerbera\",\"MARIGOLD\", \"geranium\",\"ligularia\",\"Pachysandra\",\"SNAPDRAGON\",\"GLADIOLUS\"),3,3)"
   ]
  },
  {
   "cell_type": "code",
   "execution_count": 3,
   "metadata": {
    "vscode": {
     "languageId": "r"
    }
   },
   "outputs": [
    {
     "name": "stdout",
     "output_type": "stream",
     "text": [
      "     [,1]         [,2]        [,3]         \n",
      "[1,] \"DANDELION\"  \"MARIGOLD\"  \"Pachysandra\"\n",
      "[2,] \"Hyacinthus\" \"HERE\"      \"SNAPDRAGON\" \n",
      "[3,] \"Gerbera\"    \"ligularia\" \"HERE\"       \n"
     ]
    }
   ],
   "source": [
    "# 测试矩阵ii\n",
    "mymat <- matrix(c(\"DANDELION\", \"Hyacinthus\", \"Gerbera\", \"MARIGOLD\", \n",
    "                 \"geranium\", \"ligularia\", \"Pachysandra\", \"SNAPDRAGON\", \n",
    "                 \"GLADIOLUS\"), 3, 3)\n",
    "print(process_matrix(mymat))"
   ]
  },
  {
   "cell_type": "markdown",
   "metadata": {},
   "source": [
    "\n",
    "3. mymat <- matrix(c(\"GREAT\",\"exercises\",\"right\",\"here\"),2,2,byrow=T)"
   ]
  },
  {
   "cell_type": "code",
   "execution_count": 4,
   "metadata": {
    "vscode": {
     "languageId": "r"
    }
   },
   "outputs": [
    {
     "name": "stdout",
     "output_type": "stream",
     "text": [
      "     [,1]    [,2]       \n",
      "[1,] \"HERE\"  \"exercises\"\n",
      "[2,] \"right\" \"here\"     \n"
     ]
    }
   ],
   "source": [
    "# 测试矩阵iii\n",
    "mymat <- matrix(c(\"GREAT\", \"exercises\", \"right\", \"here\"), 2, 2, byrow = TRUE)\n",
    "print(process_matrix(mymat))"
   ]
  },
  {
   "cell_type": "markdown",
   "metadata": {},
   "source": [
    "## 第二题"
   ]
  },
  {
   "cell_type": "markdown",
   "metadata": {},
   "source": [
    " Assume the object mynum will only ever be a single integer between 0 and 9. \n",
    " \n",
    " Use ifelse and switch to produce a command that takes in mynum and returns a matching character string for all possible values 0, 1, ... , 9. \n",
    " \n",
    " Supplied with 3, for example, it should return \"three\"; supplied with 0, it should return \"zero\"."
   ]
  },
  {
   "cell_type": "markdown",
   "metadata": {},
   "source": [
    "这道题要求我们使用`ifelse`和`switch`结合，实现输入1位数字返回单词的功能："
   ]
  },
  {
   "cell_type": "code",
   "execution_count": 5,
   "metadata": {
    "vscode": {
     "languageId": "r"
    }
   },
   "outputs": [],
   "source": [
    "int_to_word <- function(mynum) {\n",
    "  mynum_str <- as.character(mynum)\n",
    "  if (mynum_str == \"0\") {\n",
    "    return(\"zero\")\n",
    "  } else if (mynum_str == \"1\") {\n",
    "    return(\"one\")\n",
    "  } else if (mynum_str == \"2\") {\n",
    "    return(\"two\")\n",
    "  } else if (mynum_str == \"3\") {\n",
    "    return(\"three\")\n",
    "  } else if (mynum_str == \"4\") {\n",
    "    return(\"four\")\n",
    "  } else if (mynum_str == \"5\") {\n",
    "    return(\"five\")\n",
    "  } else if (mynum_str == \"6\") {\n",
    "    return(\"six\")\n",
    "  } else if (mynum_str == \"7\") {\n",
    "    return(\"seven\")\n",
    "  } else if (mynum_str == \"8\") {\n",
    "    return(\"eight\")\n",
    "  } else if (mynum_str == \"9\") {\n",
    "    return(\"nine\")\n",
    "  } else {\n",
    "    return(\"未知数字\")\n",
    "  }\n",
    "}\n"
   ]
  },
  {
   "cell_type": "markdown",
   "metadata": {},
   "source": [
    "或者采用下面的方式："
   ]
  },
  {
   "cell_type": "code",
   "execution_count": 6,
   "metadata": {
    "vscode": {
     "languageId": "r"
    }
   },
   "outputs": [],
   "source": [
    "# 使用ifelse和switch将整数转换为对应的英文单词\n",
    "int_to_word <- function(mynum) {\n",
    "  switch(as.character(mynum),\n",
    "         \"0\" = \"zero\",\n",
    "         \"1\" = \"one\",\n",
    "         \"2\" = \"two\",\n",
    "         \"3\" = \"three\",\n",
    "         \"4\" = \"four\",\n",
    "         \"5\" = \"five\",\n",
    "         \"6\" = \"six\",\n",
    "         \"7\" = \"seven\",\n",
    "         \"8\" = \"eight\",\n",
    "         \"9\" = \"nine\",\n",
    "         \"未知数字\")\n",
    "}"
   ]
  },
  {
   "cell_type": "code",
   "execution_count": 7,
   "metadata": {
    "vscode": {
     "languageId": "r"
    }
   },
   "outputs": [
    {
     "name": "stdout",
     "output_type": "stream",
     "text": [
      "您输入的数字对应的英文是: four \n"
     ]
    }
   ],
   "source": [
    "# 获取用户输入并转换为英文单词\n",
    "user_input_str <- readline(prompt=\"请输入一个0到9之间的数字: \")\n",
    "user_input_num <- as.integer(user_input_str)\n",
    "\n",
    "# 检查输入是否有效（可选，但建议）\n",
    "if (!is.na(user_input_num) && user_input_num >= 0 && user_input_num <= 9) {\n",
    "  result_word <- int_to_word(user_input_num)\n",
    "  cat(\"您输入的数字对应的英文是:\", result_word, \"\\n\")\n",
    "} else {\n",
    "  cat(\"输入无效，请输入一个0到9之间的整数。\\n\")\n",
    "}"
   ]
  },
  {
   "cell_type": "markdown",
   "metadata": {},
   "source": [
    "## 第三题"
   ]
  },
  {
   "cell_type": "markdown",
   "metadata": {
    "vscode": {
     "languageId": "r"
    }
   },
   "source": [
    "We used the command switch(EXPR=mystring,Homer=12,Marge=34,Bart=56,Lisa=78,Maggie=90, NA) to return a number based on the supplied value of a single character string. \n",
    "\n",
    "This line won’t work if mystring is a character vector. \n",
    "\n",
    "Write some code that will take a character vector and return a vector of the appropriate numeric values. "
   ]
  },
  {
   "cell_type": "markdown",
   "metadata": {
    "vscode": {
     "languageId": "r"
    }
   },
   "source": [
    "这道题要求我们拓展`switch`函数，实现字符串向量的处理。"
   ]
  },
  {
   "cell_type": "code",
   "execution_count": 8,
   "metadata": {
    "vscode": {
     "languageId": "r"
    }
   },
   "outputs": [],
   "source": [
    "# 定义字符到数值的映射函数\n",
    "char_to_num <- function(char_vec) {\n",
    "  # 定义映射表\n",
    "  mapping <- list(\n",
    "    \"Homer\" = 12,\n",
    "    \"Marge\" = 34,\n",
    "    \"Bart\" = 56,\n",
    "    \"Lisa\" = 78,\n",
    "    \"Maggie\" = 90\n",
    "  )\n",
    "  \n",
    "  # 对每个元素应用映射\n",
    "  result <- sapply(char_vec, function(x) {\n",
    "    if (x %in% names(mapping)) {\n",
    "      mapping[[x]]\n",
    "    } else {\n",
    "      NA\n",
    "    }\n",
    "  })\n",
    "  \n",
    "  return(result)\n",
    "}"
   ]
  },
  {
   "cell_type": "markdown",
   "metadata": {},
   "source": [
    "\n",
    "Test it on the following vector:\n",
    "\n",
    "c(\"Peter\",\"Homer\",\"Lois\",\"Stewie\",\"Maggie\",\"Bart\")"
   ]
  },
  {
   "cell_type": "code",
   "execution_count": 9,
   "metadata": {
    "vscode": {
     "languageId": "r"
    }
   },
   "outputs": [
    {
     "name": "stdout",
     "output_type": "stream",
     "text": [
      " Peter  Homer   Lois Stewie Maggie   Bart \n",
      "    NA     12     NA     NA     90     56 \n"
     ]
    }
   ],
   "source": [
    "# 测试函数\n",
    "test_vector <- c(\"Peter\", \"Homer\", \"Lois\", \"Stewie\", \"Maggie\", \"Bart\")\n",
    "print(char_to_num(test_vector))"
   ]
  },
  {
   "cell_type": "markdown",
   "metadata": {},
   "source": [
    "## 第四题"
   ]
  },
  {
   "cell_type": "markdown",
   "metadata": {},
   "source": [
    "Convert the following for loop to an implicit loop that does exactly the same thing:\n",
    "\n",
    "将以下for循环转换为隐式循环，以实现完全相同的功能："
   ]
  },
  {
   "cell_type": "code",
   "execution_count": 10,
   "metadata": {
    "vscode": {
     "languageId": "r"
    }
   },
   "outputs": [
    {
     "name": "stdout",
     "output_type": "stream",
     "text": [
      "[[1]]\n",
      "      [,1] [,2]\n",
      "[1,]  TRUE TRUE\n",
      "[2,] FALSE TRUE\n",
      "\n",
      "[[2]]\n",
      "     [,1] [,2]\n",
      "[1,] \"a\"  \"z\" \n",
      "[2,] \"c\"  \"p\" \n",
      "[3,] \"b\"  \"q\" \n",
      "\n",
      "[[3]]\n",
      "     [,1] [,2] [,3] [,4]\n",
      "[1,]    1    3    5    7\n",
      "[2,]    2    4    6    8\n",
      "\n"
     ]
    }
   ],
   "source": [
    "matlist <- list(\n",
    "    matrix(c(T,F,T,T),2,2),\n",
    "    matrix(c(\"a\",\"c\",\"b\",\"z\",\"p\",\"q\"),3,2),\n",
    "    matrix(1:8,2,4)\n",
    ")\n",
    "print(matlist)"
   ]
  },
  {
   "cell_type": "code",
   "execution_count": 11,
   "metadata": {
    "vscode": {
     "languageId": "r"
    }
   },
   "outputs": [
    {
     "name": "stdout",
     "output_type": "stream",
     "text": [
      "[[1]]\n",
      "     [,1]  [,2]\n",
      "[1,] TRUE FALSE\n",
      "[2,] TRUE  TRUE\n",
      "\n",
      "[[2]]\n",
      "     [,1] [,2] [,3]\n",
      "[1,] \"a\"  \"c\"  \"b\" \n",
      "[2,] \"z\"  \"p\"  \"q\" \n",
      "\n",
      "[[3]]\n",
      "     [,1] [,2]\n",
      "[1,]    1    2\n",
      "[2,]    3    4\n",
      "[3,]    5    6\n",
      "[4,]    7    8\n",
      "\n"
     ]
    }
   ],
   "source": [
    "for(i in 1:length(matlist)){\n",
    "    matlist[[i]] <- t(matlist[[i]])\n",
    "}\n",
    "print(matlist)"
   ]
  },
  {
   "cell_type": "markdown",
   "metadata": {},
   "source": [
    "但是按照题意，我们要把for循环转变为隐式循环："
   ]
  },
  {
   "cell_type": "code",
   "execution_count": 12,
   "metadata": {
    "vscode": {
     "languageId": "r"
    }
   },
   "outputs": [
    {
     "name": "stdout",
     "output_type": "stream",
     "text": [
      "[[1]]\n",
      "      [,1] [,2]\n",
      "[1,]  TRUE TRUE\n",
      "[2,] FALSE TRUE\n",
      "\n",
      "[[2]]\n",
      "     [,1] [,2]\n",
      "[1,] \"a\"  \"z\" \n",
      "[2,] \"c\"  \"p\" \n",
      "[3,] \"b\"  \"q\" \n",
      "\n",
      "[[3]]\n",
      "     [,1] [,2] [,3] [,4]\n",
      "[1,]    1    3    5    7\n",
      "[2,]    2    4    6    8\n",
      "\n"
     ]
    }
   ],
   "source": [
    "matlist0 <- list(\n",
    "    matrix(c(T,F,T,T),2,2),\n",
    "    matrix(c(\"a\",\"c\",\"b\",\"z\",\"p\",\"q\"),3,2),\n",
    "    matrix(1:8,2,4)\n",
    ")\n",
    "print(matlist0)"
   ]
  },
  {
   "cell_type": "code",
   "execution_count": 13,
   "metadata": {
    "vscode": {
     "languageId": "r"
    }
   },
   "outputs": [
    {
     "name": "stdout",
     "output_type": "stream",
     "text": [
      "[[1]]\n",
      "     [,1]  [,2]\n",
      "[1,] TRUE FALSE\n",
      "[2,] TRUE  TRUE\n",
      "\n",
      "[[2]]\n",
      "     [,1] [,2] [,3]\n",
      "[1,] \"a\"  \"c\"  \"b\" \n",
      "[2,] \"z\"  \"p\"  \"q\" \n",
      "\n",
      "[[3]]\n",
      "     [,1] [,2]\n",
      "[1,]    1    2\n",
      "[2,]    3    4\n",
      "[3,]    5    6\n",
      "[4,]    7    8\n",
      "\n"
     ]
    }
   ],
   "source": [
    "# 使用lapply进行隐式循环\n",
    "matlist0 <- lapply(matlist0, t)\n",
    "\n",
    "# 打印结果\n",
    "print(matlist0)"
   ]
  },
  {
   "cell_type": "markdown",
   "metadata": {},
   "source": [
    "## 第五题"
   ]
  },
  {
   "cell_type": "markdown",
   "metadata": {},
   "source": [
    "Write a recursive version of a function implementing the nonnegative integer factorial operator. \n",
    "\n",
    "The stopping rule should return the value 1 if the supplied integer is 0. \n",
    "\n",
    "Confirm that your function produces the same results as earlier."
   ]
  },
  {
   "cell_type": "markdown",
   "metadata": {},
   "source": [
    "我们需要使用递归写一个函数计算阶乘："
   ]
  },
  {
   "cell_type": "code",
   "execution_count": 14,
   "metadata": {
    "vscode": {
     "languageId": "r"
    }
   },
   "outputs": [],
   "source": [
    "# 递归实现阶乘函数\n",
    "factorial_recursive <- function(n) {\n",
    "  # 基本情况：0的阶乘是1\n",
    "  if (n == 0) {\n",
    "    return(1)\n",
    "  } else {\n",
    "    # 递归情况：n的阶乘是n乘以(n-1)的阶乘\n",
    "    return(n * factorial_recursive(n - 1))\n",
    "  }\n",
    "}"
   ]
  },
  {
   "cell_type": "markdown",
   "metadata": {},
   "source": [
    "后面你会发现，这样计算的时候会出现大数无法计算的情况。我们需要重新调整："
   ]
  },
  {
   "cell_type": "code",
   "execution_count": 15,
   "metadata": {
    "vscode": {
     "languageId": "r"
    }
   },
   "outputs": [
    {
     "name": "stderr",
     "output_type": "stream",
     "text": [
      "Warning message:\n",
      "\"package 'Rmpfr' was built under R version 4.4.3\"\n",
      "Loading required package: gmp\n",
      "\n",
      "Warning message:\n",
      "\"package 'gmp' was built under R version 4.4.3\"\n",
      "\n",
      "Attaching package: 'gmp'\n",
      "\n",
      "\n",
      "The following objects are masked from 'package:base':\n",
      "\n",
      "    %*%, apply, crossprod, matrix, tcrossprod\n",
      "\n",
      "\n",
      "C code of R package 'Rmpfr': GMP using 64 bits per limb\n",
      "\n",
      "\n",
      "\n",
      "Attaching package: 'Rmpfr'\n",
      "\n",
      "\n",
      "The following object is masked from 'package:gmp':\n",
      "\n",
      "    outer\n",
      "\n",
      "\n",
      "The following objects are masked from 'package:stats':\n",
      "\n",
      "    dbinom, dgamma, dnbinom, dnorm, dpois, dt, pgamma, pnorm\n",
      "\n",
      "\n",
      "The following objects are masked from 'package:base':\n",
      "\n",
      "    cbind, pmax, pmin, rbind\n",
      "\n",
      "\n"
     ]
    }
   ],
   "source": [
    "# 安装并加载Rmpfr包（如果尚未安装）\n",
    "if (!requireNamespace(\"Rmpfr\", quietly = TRUE)) {\n",
    "  install.packages(\"Rmpfr\")\n",
    "}\n",
    "library(Rmpfr)"
   ]
  },
  {
   "cell_type": "code",
   "execution_count": 16,
   "metadata": {
    "vscode": {
     "languageId": "r"
    }
   },
   "outputs": [],
   "source": [
    "# 递归实现高精度阶乘函数\n",
    "factorial_recursive_high <- function(n) {\n",
    "  # 基本情况：0的阶乘是1\n",
    "  if (n == 0) {\n",
    "    return(mpfr(1, precBits = 128))  # 使用高精度数值\n",
    "  } else {\n",
    "    # 递归情况：n的阶乘是n乘以(n-1)的阶乘\n",
    "    return(n * factorial_recursive_high(n - 1))\n",
    "  }\n",
    "}"
   ]
  },
  {
   "cell_type": "markdown",
   "metadata": {},
   "source": [
    "1. 5 factorial is 120."
   ]
  },
  {
   "cell_type": "code",
   "execution_count": 17,
   "metadata": {
    "vscode": {
     "languageId": "r"
    }
   },
   "outputs": [
    {
     "name": "stdout",
     "output_type": "stream",
     "text": [
      "[1] 120\n",
      "1 'mpfr' number of precision  256   bits \n",
      "[1] 120\n"
     ]
    }
   ],
   "source": [
    "print(factorial_recursive(5))  # 应返回120\n",
    "print(factorial_recursive_high(5))  # 应返回120"
   ]
  },
  {
   "cell_type": "markdown",
   "metadata": {},
   "source": [
    "2. 120 factorial is 479;001;600."
   ]
  },
  {
   "cell_type": "code",
   "execution_count": 18,
   "metadata": {
    "vscode": {
     "languageId": "r"
    }
   },
   "outputs": [
    {
     "name": "stdout",
     "output_type": "stream",
     "text": [
      "[1] 479001600\n",
      "1 'mpfr' number of precision  256   bits \n",
      "[1] 479001600\n"
     ]
    }
   ],
   "source": [
    "print(factorial_recursive(12))  # 应返回479001600\n",
    "print(factorial_recursive_high(12))  # 应返回479001600"
   ]
  },
  {
   "cell_type": "markdown",
   "metadata": {},
   "source": [
    "3. 0 factorial is 1."
   ]
  },
  {
   "cell_type": "code",
   "execution_count": 19,
   "metadata": {
    "vscode": {
     "languageId": "r"
    }
   },
   "outputs": [
    {
     "name": "stdout",
     "output_type": "stream",
     "text": [
      "[1] 1\n",
      "1 'mpfr' number of precision  256   bits \n",
      "[1] 1\n"
     ]
    }
   ],
   "source": [
    "print(factorial_recursive(0))  # 应返回1\n",
    "print(factorial_recursive_high(0))  # 应返回1\n"
   ]
  },
  {
   "cell_type": "code",
   "execution_count": null,
   "metadata": {
    "vscode": {
     "languageId": "r"
    }
   },
   "outputs": [],
   "source": []
  }
 ],
 "metadata": {
  "kernelspec": {
   "display_name": "R 4.4",
   "language": "R",
   "name": "ir44"
  },
  "language_info": {
   "codemirror_mode": "r",
   "file_extension": ".r",
   "mimetype": "text/x-r-source",
   "name": "R",
   "pygments_lexer": "r",
   "version": "4.4.2"
  }
 },
 "nbformat": 4,
 "nbformat_minor": 2
}
