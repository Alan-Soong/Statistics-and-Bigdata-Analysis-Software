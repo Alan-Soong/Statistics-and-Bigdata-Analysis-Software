{
 "cells": [
  {
   "cell_type": "markdown",
   "id": "1a8b7984",
   "metadata": {},
   "source": [
    "# 统计与大数据分析软件第九次作业"
   ]
  },
  {
   "cell_type": "markdown",
   "id": "27b5309d",
   "metadata": {},
   "source": [
    "使用`iris`数据集进行神经网络练习：其中`variety`是标签，其他四个是输入特征。\n",
    "\n",
    "构建神经网络（架构不限）对`variety`进行预测，\n",
    "\n",
    "输入为`sepal.length`，`sepal.width`，`petal.length`，`petal.width`四个变量。\n",
    "\n",
    "可对数据集分为训练集和测试集，比较模型在训练集和测试集上的预测效果。\n",
    "\n",
    "---"
   ]
  },
  {
   "cell_type": "markdown",
   "id": "7e5752a4",
   "metadata": {},
   "source": [
    "PyTorch是著名的深度学习框架之一，它提供了丰富的工具和库，用于构建和训练神经网络模型。PyTorch的核心概念包括张量（Tensor）和自动微分（Autograd）。\n",
    "\n",
    "张量是PyTorch中的基本数据结构，类似于NumPy中的数组。它们可以表示标量、向量、矩阵或更高维度的数据。张量可以在GPU上进行加速计算，使得深度学习模型的训练更加高效。"
   ]
  },
  {
   "cell_type": "code",
   "execution_count": 402,
   "id": "713f4254",
   "metadata": {},
   "outputs": [],
   "source": [
    "import torch\n",
    "import torch.nn as nn\n",
    "import torch.optim as optim\n",
    "from sklearn import datasets\n",
    "from sklearn.model_selection import train_test_split\n",
    "from sklearn.preprocessing import StandardScaler\n",
    "from sklearn.metrics import accuracy_score\n",
    "\n",
    "from sklearn.metrics import accuracy_score, confusion_matrix, classification_report\n",
    "import seaborn as sns\n",
    "import matplotlib.pyplot as plt"
   ]
  },
  {
   "cell_type": "code",
   "execution_count": 403,
   "id": "1f8647bb",
   "metadata": {},
   "outputs": [],
   "source": [
    "# 临时设置字体\n",
    "plt.rc('font', family='SimHei')  # 设置字体为 SimHei\n",
    "plt.rc('axes', unicode_minus=False)  # 解决负号显示问题"
   ]
  },
  {
   "cell_type": "markdown",
   "id": "8c85e604",
   "metadata": {},
   "source": [
    "## 数据处理部分"
   ]
  },
  {
   "cell_type": "markdown",
   "id": "15897154",
   "metadata": {},
   "source": [
    "### 1. 加载 Iris 数据集"
   ]
  },
  {
   "cell_type": "code",
   "execution_count": 404,
   "id": "1685654c",
   "metadata": {},
   "outputs": [
    {
     "name": "stdout",
     "output_type": "stream",
     "text": [
      "X.shape: (150, 4)\n",
      "y.shape: (150,)\n"
     ]
    }
   ],
   "source": [
    "iris = datasets.load_iris()\n",
    "X = iris.data  # 特征\n",
    "y = iris.target  # 标签 (0, 1, 2)\n",
    "print(\"X.shape:\", X.shape)\n",
    "print(\"y.shape:\", y.shape)"
   ]
  },
  {
   "cell_type": "markdown",
   "id": "e1afc2a5",
   "metadata": {},
   "source": [
    "### 2. 数据标准化（对特征进行归一化）"
   ]
  },
  {
   "cell_type": "markdown",
   "id": "18b505a6",
   "metadata": {},
   "source": [
    "选择正态分布作为归一化操作（使用连续数值）"
   ]
  },
  {
   "cell_type": "code",
   "execution_count": 405,
   "id": "a0fed141",
   "metadata": {},
   "outputs": [],
   "source": [
    "scaler = StandardScaler()\n",
    "X = scaler.fit_transform(X)"
   ]
  },
  {
   "cell_type": "markdown",
   "id": "d4e1f7b3",
   "metadata": {},
   "source": [
    "### 3. 划分训练集和测试集"
   ]
  },
  {
   "cell_type": "markdown",
   "id": "204d9dbf",
   "metadata": {},
   "source": [
    "随机数选择42（最经典），按照测试集：训练集=8:2划分我们的数据"
   ]
  },
  {
   "cell_type": "code",
   "execution_count": 406,
   "id": "0997a86d",
   "metadata": {},
   "outputs": [
    {
     "name": "stdout",
     "output_type": "stream",
     "text": [
      "X_train.shape: (120, 4)\n",
      "y_train.shape: (120,)\n",
      "X_test.shape: (30, 4)\n",
      "y_test.shape: (30,)\n"
     ]
    }
   ],
   "source": [
    "X_train, X_test, y_train, y_test = train_test_split(\n",
    "    X, y, test_size=0.2, random_state=42, stratify=y)\n",
    "\n",
    "print(\"X_train.shape:\", X_train.shape)\n",
    "print(\"y_train.shape:\", y_train.shape)\n",
    "print(\"X_test.shape:\", X_test.shape)\n",
    "print(\"y_test.shape:\", y_test.shape)"
   ]
  },
  {
   "cell_type": "markdown",
   "id": "5cf5a21e",
   "metadata": {},
   "source": [
    "### 4. 转换为张量"
   ]
  },
  {
   "cell_type": "markdown",
   "id": "45e16b1c",
   "metadata": {},
   "source": [
    "`PyTorch`的模型（`nn.Module`）只能用`Tensor`作为输入，否则会报错"
   ]
  },
  {
   "cell_type": "code",
   "execution_count": 407,
   "id": "5a640149",
   "metadata": {},
   "outputs": [],
   "source": [
    "X_train = torch.tensor(X_train, dtype=torch.float32)\n",
    "X_test = torch.tensor(X_test, dtype=torch.float32)\n",
    "y_train = torch.tensor(y_train, dtype=torch.long)\n",
    "y_test = torch.tensor(y_test, dtype=torch.long)"
   ]
  },
  {
   "cell_type": "markdown",
   "id": "fdb84a90",
   "metadata": {},
   "source": [
    "## 模型搭建部分"
   ]
  },
  {
   "cell_type": "markdown",
   "id": "40e0dd7a",
   "metadata": {},
   "source": [
    "### 5. 定义神经网络模型"
   ]
  },
  {
   "cell_type": "markdown",
   "id": "b7388adc",
   "metadata": {},
   "source": [
    "搭建一个简单的前馈神经网络，四层深度并且三次激活\n",
    "\n",
    "同时增加了dropout正则化操作，训练时屏蔽一些神经元，防止过拟合。"
   ]
  },
  {
   "cell_type": "code",
   "execution_count": 408,
   "id": "a86a2796",
   "metadata": {},
   "outputs": [
    {
     "name": "stdout",
     "output_type": "stream",
     "text": [
      "IrisNet(\n",
      "  (fc1): Linear(in_features=4, out_features=64, bias=True)\n",
      "  (fc2): Linear(in_features=64, out_features=32, bias=True)\n",
      "  (fc3): Linear(in_features=32, out_features=16, bias=True)\n",
      "  (fc4): Linear(in_features=16, out_features=3, bias=True)\n",
      "  (dropout): Dropout(p=0.2, inplace=False)\n",
      ")\n"
     ]
    }
   ],
   "source": [
    "class IrisNet(nn.Module):\n",
    "    def __init__(self):\n",
    "        super(IrisNet, self).__init__()\n",
    "        self.fc1 = nn.Linear(4, 64)   # 输入4维 -> 64维\n",
    "        self.fc2 = nn.Linear(64, 32)  # 64 -> 32\n",
    "        self.fc3 = nn.Linear(32, 16)  # 32 -> 12\n",
    "        self.fc4 = nn.Linear(16, 3)   # 12 -> 3类别\n",
    "        self.dropout = nn.Dropout(0.2)  # 加一层Dropout，概率0.2\n",
    "\n",
    "    def forward(self, x):\n",
    "        x = torch.relu(self.fc1(x))\n",
    "        x = self.dropout(x)\n",
    "        x = torch.relu(self.fc2(x))\n",
    "        x = self.dropout(x)\n",
    "        x = torch.relu(self.fc3(x))\n",
    "        x = self.dropout(x)\n",
    "        x = self.fc4(x)  # 最后一层不加激活，因为用 CrossEntropyLoss\n",
    "        return x\n",
    "\n",
    "model = IrisNet()\n",
    "print(model)"
   ]
  },
  {
   "cell_type": "markdown",
   "id": "2dd116fb",
   "metadata": {},
   "source": [
    "### 6. 定义损失函数和优化器"
   ]
  },
  {
   "cell_type": "markdown",
   "id": "cceb172f",
   "metadata": {},
   "source": [
    "交叉熵的目的就是：鼓励神经网络在正确类别上打更高的分，在错误类别上打更低的分。\n",
    "\n",
    "更具体来说，交叉熵损失就是：\n",
    "\n",
    "- 对输出先做`softmax`，变成概率分布\n",
    "\n",
    "- 然后用真实类别去索引预测概率\n",
    "\n",
    "- 惩罚：预测正确类别的概率越低，损失越大！"
   ]
  },
  {
   "cell_type": "markdown",
   "id": "64062c97",
   "metadata": {},
   "source": [
    "而且，`Adam`是训练神经网络默认最推荐的优化器，\n",
    "\n",
    "- 特别适合初学和小规模实验，\n",
    "\n",
    "- 即使不用太多精细调参，也能很快得到不错的结果。\n",
    "\n",
    "所以我们在小型分类上选Adam非常合理！"
   ]
  },
  {
   "cell_type": "code",
   "execution_count": 409,
   "id": "1feb53c2",
   "metadata": {},
   "outputs": [],
   "source": [
    "criterion = nn.CrossEntropyLoss()\n",
    "optimizer = optim.Adam(model.parameters(), lr=0.01)"
   ]
  },
  {
   "cell_type": "markdown",
   "id": "1c363d48",
   "metadata": {},
   "source": [
    "## 模型训练部分"
   ]
  },
  {
   "cell_type": "markdown",
   "id": "291b6e31",
   "metadata": {},
   "source": [
    "### 7. 训练网络"
   ]
  },
  {
   "cell_type": "markdown",
   "id": "946f83fe",
   "metadata": {},
   "source": [
    "使用前向传播进行网络的训练，使用反向传播进行网络的更新。打印每步的损失。"
   ]
  },
  {
   "cell_type": "markdown",
   "id": "0560991e",
   "metadata": {},
   "source": [
    "（发现早停机制对于实验没什么太大优化，遂放弃）"
   ]
  },
  {
   "cell_type": "code",
   "execution_count": 410,
   "id": "ac4e4785",
   "metadata": {},
   "outputs": [
    {
     "name": "stdout",
     "output_type": "stream",
     "text": [
      "Epoch [10/150], Loss: 0.3634\n",
      "Epoch [20/150], Loss: 0.0961\n",
      "Epoch [30/150], Loss: 0.0400\n",
      "Epoch [40/150], Loss: 0.0277\n",
      "Epoch [50/150], Loss: 0.0227\n",
      "Epoch [60/150], Loss: 0.0180\n",
      "Epoch [70/150], Loss: 0.0121\n",
      "Epoch [80/150], Loss: 0.0066\n",
      "Epoch [90/150], Loss: 0.0030\n",
      "Epoch [100/150], Loss: 0.0014\n",
      "Epoch [110/150], Loss: 0.0008\n",
      "Epoch [120/150], Loss: 0.0004\n",
      "Epoch [130/150], Loss: 0.0003\n",
      "Epoch [140/150], Loss: 0.0002\n",
      "Epoch [150/150], Loss: 0.0002\n"
     ]
    }
   ],
   "source": [
    "num_epochs = 150\n",
    "# best_loss = float('inf')\n",
    "# patience = 20  # 容忍20轮没提升\n",
    "# counter = 0\n",
    "\n",
    "for epoch in range(num_epochs):\n",
    "    # 前向传播\n",
    "    outputs = model(X_train)\n",
    "    loss = criterion(outputs, y_train)\n",
    "\n",
    "    # 反向传播和优化\n",
    "    optimizer.zero_grad()\n",
    "    loss.backward()\n",
    "    optimizer.step()\n",
    "\n",
    "    # if (epoch+1) % 10 == 0:\n",
    "    #     print(f'Epoch [{epoch+1}/{num_epochs}], Loss: {loss.item():.4f}')\n",
    "\n",
    "    # 测试集上看看效果\n",
    "    model.eval()\n",
    "    # with torch.no_grad():\n",
    "    #     val_outputs = model(X_test)\n",
    "    #     val_loss = criterion(val_outputs, y_test)\n",
    "    \n",
    "    if (epoch+1) % 10 == 0:\n",
    "        # print(f\"第 [{epoch+1}/{num_epochs}] 轮：训练损失={loss.item():.4f}，测试损失={val_loss.item():.4f}\")\n",
    "        print(f'Epoch [{epoch+1}/{num_epochs}], Loss: {loss.item():.4f}')\n",
    "\n",
    "    # # EarlyStopping 检查\n",
    "    # if val_loss < best_loss:\n",
    "    #     best_loss = val_loss\n",
    "    #     counter = 0  # 重新计数\n",
    "    # else:\n",
    "    #     counter += 1\n",
    "    #     if counter >= patience:\n",
    "    #         print(\"测试集上早停触发！\")\n",
    "    #         break"
   ]
  },
  {
   "cell_type": "markdown",
   "id": "0cbaab20",
   "metadata": {},
   "source": [
    "### 8. 在训练集上预测"
   ]
  },
  {
   "cell_type": "markdown",
   "id": "1a50e587",
   "metadata": {},
   "source": [
    "由于推理不需要设置梯度，所以不设置更新的梯度。"
   ]
  },
  {
   "cell_type": "code",
   "execution_count": 411,
   "id": "ddff4eec",
   "metadata": {},
   "outputs": [
    {
     "name": "stdout",
     "output_type": "stream",
     "text": [
      "\n",
      "训练集准确率: 100.00%\n",
      "测试集准确率: 96.67%\n"
     ]
    }
   ],
   "source": [
    "with torch.no_grad():\n",
    "    train_preds = model(X_train).argmax(dim=1)\n",
    "    train_acc = accuracy_score(y_train.numpy(), train_preds.numpy())\n",
    "\n",
    "    test_preds = model(X_test).argmax(dim=1)\n",
    "    test_acc = accuracy_score(y_test.numpy(), test_preds.numpy())\n",
    "\n",
    "print(f\"\\n训练集准确率: {train_acc * 100:.2f}%\")\n",
    "print(f\"测试集准确率: {test_acc * 100:.2f}%\")"
   ]
  },
  {
   "cell_type": "markdown",
   "id": "857db6d1",
   "metadata": {},
   "source": [
    "训练集达到了100%的准确率，测试集达到了96.67%的准确率，说明模型稍微过拟合了，可能需要进一步正则化。"
   ]
  },
  {
   "cell_type": "markdown",
   "id": "197c4ceb",
   "metadata": {},
   "source": [
    "### 9. 查看结果"
   ]
  },
  {
   "cell_type": "markdown",
   "id": "7ef71ea8",
   "metadata": {},
   "source": [
    "混淆矩阵："
   ]
  },
  {
   "cell_type": "code",
   "execution_count": 412,
   "id": "34f99eac",
   "metadata": {},
   "outputs": [
    {
     "name": "stdout",
     "output_type": "stream",
     "text": [
      "\n",
      "测试集混淆矩阵：\n",
      "[[10  0  0]\n",
      " [ 0  9  1]\n",
      " [ 0  0 10]]\n",
      "\n",
      "训练集混淆矩阵：\n",
      "[[40  0  0]\n",
      " [ 0 40  0]\n",
      " [ 0  0 40]]\n"
     ]
    }
   ],
   "source": [
    "cm = confusion_matrix(y_test.numpy(), test_preds.numpy())\n",
    "print(\"\\n测试集混淆矩阵：\")\n",
    "print(cm)\n",
    "\n",
    "cn = confusion_matrix(y_train.numpy(), train_preds.numpy())\n",
    "print(\"\\n训练集混淆矩阵：\")\n",
    "print(cn)"
   ]
  },
  {
   "cell_type": "markdown",
   "id": "51e20e16",
   "metadata": {},
   "source": [
    "精确率/召回率/F1分数报告："
   ]
  },
  {
   "cell_type": "code",
   "execution_count": 413,
   "id": "aefca28c",
   "metadata": {},
   "outputs": [
    {
     "name": "stdout",
     "output_type": "stream",
     "text": [
      "\n",
      "分类详细报告：\n",
      "              precision    recall  f1-score   support\n",
      "\n",
      "      Setosa       1.00      1.00      1.00        10\n",
      "  Versicolor       1.00      0.90      0.95        10\n",
      "   Virginica       0.91      1.00      0.95        10\n",
      "\n",
      "    accuracy                           0.97        30\n",
      "   macro avg       0.97      0.97      0.97        30\n",
      "weighted avg       0.97      0.97      0.97        30\n",
      "\n"
     ]
    }
   ],
   "source": [
    "report = classification_report(y_test.numpy(), test_preds.numpy(), target_names=['Setosa', 'Versicolor', 'Virginica'])\n",
    "print(\"\\n分类详细报告：\")\n",
    "print(report)"
   ]
  },
  {
   "cell_type": "markdown",
   "id": "322d7e8c",
   "metadata": {},
   "source": [
    "Versicolor的召回率只有90%，说明模型对Versicolor的识别能力相对较弱。其他两种较强。\n",
    "\n",
    "Virginica的准确率只有90%，说明模型对Virginica的识别能力相对较弱。其他两种较强。\n",
    "\n",
    "只有Setosa的准确率，召回率和f1-score都为100%，说明模型对Setosa的识别能力较强。其他两种较弱。"
   ]
  },
  {
   "cell_type": "markdown",
   "id": "873f99c9",
   "metadata": {},
   "source": [
    "混淆矩阵可视化（热力图）："
   ]
  },
  {
   "cell_type": "code",
   "execution_count": 414,
   "id": "441a5980",
   "metadata": {},
   "outputs": [
    {
     "data": {
      "image/png": "[encoded data removed]",
      "text/plain": [
       "<Figure size 600x400 with 2 Axes>"
      ]
     },
     "metadata": {},
     "output_type": "display_data"
    }
   ],
   "source": [
    "plt.figure(figsize=(6, 4))\n",
    "sns.heatmap(cm, annot=True, fmt='d', cmap='Blues', xticklabels=['Setosa', 'Versicolor', 'Virginica'], yticklabels=['Setosa', 'Versicolor', 'Virginica'])\n",
    "plt.xlabel('预测类别')\n",
    "plt.ylabel('真实类别')\n",
    "plt.title('混淆矩阵热力图')\n",
    "plt.show()"
   ]
  },
  {
   "cell_type": "markdown",
   "id": "6c37233b",
   "metadata": {},
   "source": [
    "可以看到预测效果还不错！"
   ]
  }
 ],
 "metadata": {
  "kernelspec": {
   "display_name": "DL",
   "language": "python",
   "name": "python3"
  },
  "language_info": {
   "codemirror_mode": {
    "name": "ipython",
    "version": 3
   },
   "file_extension": ".py",
   "mimetype": "text/x-python",
   "name": "python",
   "nbconvert_exporter": "python",
   "pygments_lexer": "ipython3",
   "version": "3.12.5"
  }
 },
 "nbformat": 4,
 "nbformat_minor": 5
}
