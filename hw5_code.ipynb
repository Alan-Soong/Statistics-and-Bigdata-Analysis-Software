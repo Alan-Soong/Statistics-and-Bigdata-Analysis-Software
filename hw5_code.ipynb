{
 "cells": [
  {
   "cell_type": "markdown",
   "metadata": {},
   "source": [
    "# 统计与大数据分析软件第五次作业"
   ]
  },
  {
   "cell_type": "markdown",
   "metadata": {},
   "source": [
    "## 第一题"
   ]
  },
  {
   "cell_type": "markdown",
   "metadata": {},
   "source": [
    "编写一个程序，在一个文件夹中，在其中生成`assignment_1.txt`, `assignment_2.txt`, ...., `assignment_100.txt`等100个文本文件，文件内容为这个文件的绝对路径。\n",
    "\n",
    "然后随机删除其中5个文件。再编写另一个程序，找出缺失的5个文件，并把缺失的5个文件补齐。"
   ]
  },
  {
   "cell_type": "markdown",
   "metadata": {},
   "source": [
    "首先，我们需要导入os库，处理文件读写："
   ]
  },
  {
   "cell_type": "code",
   "execution_count": 20,
   "metadata": {},
   "outputs": [],
   "source": [
    "import os"
   ]
  },
  {
   "cell_type": "markdown",
   "metadata": {},
   "source": [
    "下一步新建文件夹，保存我们的文件："
   ]
  },
  {
   "cell_type": "code",
   "execution_count": 21,
   "metadata": {},
   "outputs": [],
   "source": [
    "folder_path = 'assignments'\n",
    "if not os.path.exists(folder_path):\n",
    "    os.makedirs(folder_path)"
   ]
  },
  {
   "cell_type": "markdown",
   "metadata": {},
   "source": [
    "接下来进行循环，生成我们编写的文件："
   ]
  },
  {
   "cell_type": "code",
   "execution_count": 22,
   "metadata": {},
   "outputs": [],
   "source": [
    "for i in range(1, 101):\n",
    "    file_name = f'assignment_{i}.txt'\n",
    "    file_path = os.path.join(folder_path, file_name)\n",
    "    with open(file_path, 'w') as file:\n",
    "        file.write(os.path.abspath(file_path))    "
   ]
  },
  {
   "cell_type": "markdown",
   "metadata": {},
   "source": [
    "接下来随机删除和添加文件，先导入随机数的库："
   ]
  },
  {
   "cell_type": "code",
   "execution_count": 23,
   "metadata": {},
   "outputs": [],
   "source": [
    "import random"
   ]
  },
  {
   "cell_type": "markdown",
   "metadata": {},
   "source": [
    "选择上面创建的结果，对其进行如下操作（删除，填充）："
   ]
  },
  {
   "cell_type": "code",
   "execution_count": 24,
   "metadata": {},
   "outputs": [
    {
     "name": "stdout",
     "output_type": "stream",
     "text": [
      "File assignment_96.txt destroyed.\n",
      "File assignment_44.txt destroyed.\n",
      "File assignment_91.txt destroyed.\n",
      "File assignment_74.txt destroyed.\n",
      "File assignment_98.txt destroyed.\n"
     ]
    }
   ],
   "source": [
    "# 删除文件，寻找路径和随机生成对应需要的文件\n",
    "folder_path = 'assignments'\n",
    "files = os.listdir(folder_path)\n",
    "files_to_delete = random.sample(files, 5)\n",
    "\n",
    "# 随机删除循环，并打印删除的文件名\n",
    "for file in files_to_delete:\n",
    "    print(f'File {file} destroyed.')\n",
    "    file_path = os.path.join(folder_path, file)\n",
    "    os.remove(file_path)    "
   ]
  },
  {
   "cell_type": "code",
   "execution_count": 25,
   "metadata": {},
   "outputs": [
    {
     "name": "stdout",
     "output_type": "stream",
     "text": [
      "File assignment_44.txt created.\n",
      "File assignment_74.txt created.\n",
      "File assignment_91.txt created.\n",
      "File assignment_96.txt created.\n",
      "File assignment_98.txt created.\n"
     ]
    }
   ],
   "source": [
    "# 填充文件，获取已有的文件列表\n",
    "folder_path = 'assignments'\n",
    "existing_files = set(os.listdir(folder_path))\n",
    "\n",
    "# 填充循环，并将文件路径写入文件，并打印文件恢复\n",
    "for i in range(1, 101):\n",
    "    file_name = f'assignment_{i}.txt'\n",
    "    if file_name not in existing_files:\n",
    "        file_path = os.path.join(folder_path, file_name)\n",
    "        with open(file_path, 'w') as file:\n",
    "            file.write(os.path.abspath(file_path))\n",
    "        print(f'File {file_name} created.')    "
   ]
  },
  {
   "cell_type": "markdown",
   "metadata": {},
   "source": [
    "## 第二题"
   ]
  },
  {
   "cell_type": "markdown",
   "metadata": {},
   "source": [
    "使用`numpy.random.randn`分别创建$10*10$，$100*100$和$1000*1000$的数据，并分别计算他们的均值和标准差。"
   ]
  },
  {
   "cell_type": "markdown",
   "metadata": {},
   "source": [
    "第一步，导入我们的`numpy`库函数"
   ]
  },
  {
   "cell_type": "code",
   "execution_count": 3,
   "metadata": {},
   "outputs": [],
   "source": [
    "import numpy as np"
   ]
  },
  {
   "cell_type": "markdown",
   "metadata": {},
   "source": [
    "生成三个随机数矩阵（方阵），大小分别为$10, 100, 1000$"
   ]
  },
  {
   "cell_type": "code",
   "execution_count": 22,
   "metadata": {},
   "outputs": [
    {
     "data": {
      "text/plain": [
       "array([[ 0.03493596, -0.96178923,  0.23282936,  0.36213764,  0.2479145 ,\n",
       "        -2.09184409,  1.02628071, -2.38168256, -0.51468323,  0.05055239],\n",
       "       [ 0.10178598, -2.5756002 ,  0.48449134,  0.06446737, -1.40917285,\n",
       "         0.47635623,  1.64180404, -0.86347221,  1.3017808 ,  0.39866849],\n",
       "       [ 1.86140763,  0.33038608,  0.28735865,  0.88008186,  0.18178539,\n",
       "        -1.10499386, -2.17502436, -2.08262589,  0.71285098, -0.7054283 ],\n",
       "       [ 1.18264268,  0.97669924,  0.92057001,  0.01376094,  0.44355674,\n",
       "        -0.05156768,  1.07098266, -0.33299358, -0.59245978,  0.315512  ],\n",
       "       [ 1.83014619,  0.08195879, -0.9182752 , -0.94762198,  0.53080785,\n",
       "         0.84310021, -1.98456391, -0.63367777, -0.82581629,  0.79388838],\n",
       "       [-1.43336471,  0.79166866,  1.858425  ,  0.09070661,  1.42313033,\n",
       "        -0.03819906,  1.8269306 , -0.00470059,  1.35017814, -0.21271526],\n",
       "       [-2.9320223 ,  0.2610375 , -0.76313265, -0.40883479,  0.11225025,\n",
       "         0.57810033,  0.30418694,  0.47848473, -1.06792778,  0.80439971],\n",
       "       [-1.09492817,  0.61742239,  0.76687861,  0.81570075, -0.40727929,\n",
       "        -0.77969805, -0.81596176,  1.48316992, -0.05029425,  0.97121235],\n",
       "       [-0.42626105,  0.10721318,  1.61291336,  0.81534708,  0.6108176 ,\n",
       "        -0.84778884, -0.77924522, -0.48540198,  1.40709899, -0.32308158],\n",
       "       [ 0.33507992,  1.43208926,  0.41385443,  1.57183336,  1.52310653,\n",
       "         1.78417894,  0.31162352,  0.12298523, -1.02925796,  0.54332503]])"
      ]
     },
     "execution_count": 22,
     "metadata": {},
     "output_type": "execute_result"
    }
   ],
   "source": [
    "ten_m = np.random.randn(10,10)\n",
    "hun_m = np.random.randn(100,100)\n",
    "thou_m = np.random.randn(1000,1000)\n",
    "\n",
    "ten_m"
   ]
  },
  {
   "cell_type": "markdown",
   "metadata": {},
   "source": [
    "接下来依次生成矩阵的均值和标准差："
   ]
  },
  {
   "cell_type": "code",
   "execution_count": 6,
   "metadata": {},
   "outputs": [
    {
     "data": {
      "text/plain": [
       "(-0.1120620078608245, 0.9128642372417183)"
      ]
     },
     "execution_count": 6,
     "metadata": {},
     "output_type": "execute_result"
    }
   ],
   "source": [
    "ten_m.mean(), ten_m.std() # 10*10矩阵的均值和标准差"
   ]
  },
  {
   "cell_type": "code",
   "execution_count": 7,
   "metadata": {},
   "outputs": [
    {
     "data": {
      "text/plain": [
       "(-0.007129593903455349, 1.0084522895807841)"
      ]
     },
     "execution_count": 7,
     "metadata": {},
     "output_type": "execute_result"
    }
   ],
   "source": [
    "hun_m.mean(), hun_m.std() # 100*100矩阵的均值和标准差"
   ]
  },
  {
   "cell_type": "code",
   "execution_count": 8,
   "metadata": {},
   "outputs": [
    {
     "data": {
      "text/plain": [
       "(0.000675902879076251, 1.0001893845697012)"
      ]
     },
     "execution_count": 8,
     "metadata": {},
     "output_type": "execute_result"
    }
   ],
   "source": [
    "thou_m.mean(), thou_m.std() # 1000*1000矩阵的均值和标准差"
   ]
  },
  {
   "cell_type": "code",
   "execution_count": 21,
   "metadata": {},
   "outputs": [
    {
     "data": {
      "text/plain": [
       "(array([ 0.29778735,  0.33302242,  0.11129109, -0.32981742, -0.21663701,\n",
       "        -0.00197841, -0.12984826, -0.32448003, -0.31270207, -0.54725774]),\n",
       " array([-0.45884461, -0.32460114, -0.35643145, -0.41364134,  0.35005693,\n",
       "        -0.16864611, -0.28174483, -0.01694848,  0.20873437,  0.34144657]))"
      ]
     },
     "execution_count": 21,
     "metadata": {},
     "output_type": "execute_result"
    }
   ],
   "source": [
    "ten_m.mean(0), ten_m.mean(1) # 求均值(对每一行和每一列求均值)，这里为了方便不对另外两个数组求某一维度的均值了"
   ]
  },
  {
   "cell_type": "markdown",
   "metadata": {},
   "source": [
    "## 第三题"
   ]
  },
  {
   "cell_type": "markdown",
   "metadata": {},
   "source": [
    "给定一个一维数组，定义函数`moving_average(a,n)`计算此数组的滑动平均值，`a`为数组，`n`为窗口长度。给出例子并作图显示"
   ]
  },
  {
   "cell_type": "markdown",
   "metadata": {},
   "source": [
    "我们继续导入`numpy`包和`matplotlib`包（作图）"
   ]
  },
  {
   "cell_type": "code",
   "execution_count": null,
   "metadata": {},
   "outputs": [],
   "source": [
    "import numpy as np\n",
    "import matplotlib.pyplot as plt"
   ]
  },
  {
   "cell_type": "markdown",
   "metadata": {},
   "source": [
    "定义函数`moving_average`，传入两个参数：\n",
    "\n",
    "1. 一个一维数组\n",
    "\n",
    "2. 滑动窗口的大小\n",
    "\n",
    "返回一个一维数组，是原数组的滑动平均值。"
   ]
  },
  {
   "cell_type": "code",
   "execution_count": null,
   "metadata": {},
   "outputs": [],
   "source": [
    "def moving_average(a, n):\n",
    "\n",
    "    # 对第n个元素，将a[n-1]前n个进行求和，为后面计算滑动平均值数组做准备\n",
    "    ret = np.cumsum(a, dtype=float)\n",
    "\n",
    "    # 计算滑动平均值数组，排除多余相加的部分\n",
    "    ret[n:] = ret[n:] - ret[:-n]\n",
    "\n",
    "    # 最后求取平均值\n",
    "    return ret[n - 1:] / n"
   ]
  },
  {
   "cell_type": "markdown",
   "metadata": {},
   "source": [
    "建立一个示例程序，传入大小为100的数组，滑动窗口大小为5："
   ]
  },
  {
   "cell_type": "code",
   "execution_count": 36,
   "metadata": {},
   "outputs": [],
   "source": [
    "# 示例数组\n",
    "a = np.random.randn(100)\n",
    "n = 5\n",
    "\n",
    "# 计算滑动平均值\n",
    "ma = moving_average(a, n)"
   ]
  },
  {
   "cell_type": "markdown",
   "metadata": {},
   "source": [
    "可视化我们的结果："
   ]
  },
  {
   "cell_type": "code",
   "execution_count": 37,
   "metadata": {},
   "outputs": [
    {
     "data": {
      "image/png": "[encoded data removed]",
      "text/plain": [
       "<Figure size 1000x600 with 1 Axes>"
      ]
     },
     "metadata": {},
     "output_type": "display_data"
    }
   ],
   "source": [
    "# 绘制原始数据和滑动平均值\n",
    "plt.figure(figsize=(10, 6))\n",
    "plt.plot(a, label='Original Data')\n",
    "plt.plot(np.arange(n - 1, len(a)), ma, label=f'Moving Average (n={n})')\n",
    "plt.title('Original Data and Moving Average')\n",
    "plt.xlabel('Index')\n",
    "plt.ylabel('Value')\n",
    "plt.legend()\n",
    "plt.show()"
   ]
  },
  {
   "cell_type": "markdown",
   "metadata": {},
   "source": [
    "## 第四题"
   ]
  },
  {
   "cell_type": "markdown",
   "metadata": {},
   "source": [
    "对于一个任意二维数组，给定此数组中某个元素的位置$(i,j)$和一个长度值$l$，\n",
    "\n",
    "从此二维数组中提取出以此元素为中心，维数为$(2*l+1,2*l+1)$的方阵。\n",
    "\n",
    "如果越界，则使用0补齐。"
   ]
  },
  {
   "cell_type": "code",
   "execution_count": null,
   "metadata": {},
   "outputs": [],
   "source": [
    "# 传入参数数组，坐标（i，j），长度l\n",
    "def extract_submatrix(arr, i, j, l):\n",
    "\n",
    "    # 判断数组大小\n",
    "    m = len(arr)\n",
    "    if m == 0:\n",
    "        return [[0] * (2 * l + 1) for _ in range(2 * l + 1)]\n",
    "    n = len(arr[0]) if m > 0 else 0\n",
    "\n",
    "    # 坐标变成数组的索引范围，传入的（i，j）是真是坐标而非数组索引\n",
    "    i -= 1\n",
    "    j -= 1\n",
    "\n",
    "    # 计算子矩阵的大小\n",
    "    size = 2 * l + 1\n",
    "    submatrix = []\n",
    "    for x in range(size):\n",
    "        row = []\n",
    "        for y in range(size):\n",
    "            original_row = i - l + x\n",
    "            original_col = j - l + y\n",
    "            if 0 <= original_row < m and 0 <= original_col < n:\n",
    "                row.append(arr[original_row][original_col])\n",
    "            else:\n",
    "                row.append(0)\n",
    "        submatrix.append(row)\n",
    "    return np.array(submatrix)"
   ]
  },
  {
   "cell_type": "code",
   "execution_count": 17,
   "metadata": {},
   "outputs": [
    {
     "data": {
      "text/plain": [
       "array([[ 0.13434217,  1.2721454 , -2.01496045],\n",
       "       [ 0.79056415, -0.52463409,  2.94770492],\n",
       "       [ 0.29574358,  1.03315391, -0.10121591],\n",
       "       [-0.08678527,  0.19865766,  2.1610002 ],\n",
       "       [ 0.66966294,  1.66505252,  0.40131163],\n",
       "       [-1.50577122,  1.66346247,  1.25614071]])"
      ]
     },
     "execution_count": 17,
     "metadata": {},
     "output_type": "execute_result"
    }
   ],
   "source": [
    "arr = np.random.randn(6,3)\n",
    "arr"
   ]
  },
  {
   "cell_type": "code",
   "execution_count": 18,
   "metadata": {},
   "outputs": [
    {
     "data": {
      "text/plain": [
       "array([[ 0.        ,  0.        ,  0.        ,  0.        ,  0.        ],\n",
       "       [ 0.        ,  0.        ,  0.13434217,  1.2721454 , -2.01496045],\n",
       "       [ 0.        ,  0.        ,  0.79056415, -0.52463409,  2.94770492],\n",
       "       [ 0.        ,  0.        ,  0.29574358,  1.03315391, -0.10121591],\n",
       "       [ 0.        ,  0.        , -0.08678527,  0.19865766,  2.1610002 ]])"
      ]
     },
     "execution_count": 18,
     "metadata": {},
     "output_type": "execute_result"
    }
   ],
   "source": [
    "arr_extend = extract_submatrix(arr, 2, 1, 2)\n",
    "arr_extend"
   ]
  },
  {
   "cell_type": "markdown",
   "metadata": {},
   "source": [
    "## 第五题"
   ]
  },
  {
   "cell_type": "markdown",
   "metadata": {},
   "source": [
    "设二次函数 $p(x)=ax^2+bx+c$ 过点 $(x_i,y_i)$, $for\\enspace i=1, 2, 3$. 求$a，b，c$的值。\n",
    "\n",
    "例如过这三个点$(-1,1),(0,-1),(2,7)$，则可以得到一个线性方程组，使用`numpy.linalg`中`solve`函数解方程即可。"
   ]
  },
  {
   "cell_type": "markdown",
   "metadata": {},
   "source": [
    "回忆高等代数（线性代数）知识，求解一元线性方程组问题可以转化成矩阵形式: $b = Ax$\n",
    "\n",
    "其中$A$是$x$的矩阵（某种意义上的类似转置范德蒙矩阵），$x$是常数项列向量（参数$a, b, c$），$b$是函数值向量（标签向量）。\n",
    "\n",
    "我们的问题是，已知$A, b$，求$x$。"
   ]
  },
  {
   "cell_type": "markdown",
   "metadata": {},
   "source": [
    "导入numpy："
   ]
  },
  {
   "cell_type": "code",
   "execution_count": 44,
   "metadata": {},
   "outputs": [],
   "source": [
    "import numpy as np"
   ]
  },
  {
   "cell_type": "markdown",
   "metadata": {},
   "source": [
    "构造x的矩阵和函数值的矩阵向量："
   ]
  },
  {
   "cell_type": "code",
   "execution_count": 45,
   "metadata": {},
   "outputs": [],
   "source": [
    "A = np.array([[1, -1, 1], [0, 0, 1], [4, 2, 1]])\n",
    "b = np.array([1, -1, 7])"
   ]
  },
  {
   "cell_type": "markdown",
   "metadata": {},
   "source": [
    "计算可以求解："
   ]
  },
  {
   "cell_type": "code",
   "execution_count": 46,
   "metadata": {},
   "outputs": [
    {
     "data": {
      "text/plain": [
       "array([ 2., -0., -1.])"
      ]
     },
     "execution_count": 46,
     "metadata": {},
     "output_type": "execute_result"
    }
   ],
   "source": [
    "x = np.linalg.solve(A, b)\n",
    "x"
   ]
  },
  {
   "cell_type": "markdown",
   "metadata": {},
   "source": [
    "不失去一般性，我们设计一个普适性的计算方法："
   ]
  },
  {
   "cell_type": "code",
   "execution_count": null,
   "metadata": {},
   "outputs": [],
   "source": [
    "def solve_linear(x, y):\n",
    "  if len(x) != len(y):\n",
    "    raise ValueError(\"x and y must have the same length\")\n",
    "  A = np.vander(x)\n",
    "  return np.linalg.solve(A, y)"
   ]
  },
  {
   "cell_type": "markdown",
   "metadata": {},
   "source": [
    "如上，引入范德蒙矩阵生成，设计函数可以增强普适性，传入两个列向量$x=(x_1,x_2,...,x_n), y=(y_1,y_2,...,y_n)$进行计算\n",
    "\n",
    "理论上是有效（有唯一解，$r(A) \\geq r(y)$）的。下面是具体的传入参数："
   ]
  },
  {
   "cell_type": "code",
   "execution_count": 56,
   "metadata": {},
   "outputs": [
    {
     "data": {
      "text/plain": [
       "array([ 2., -0., -1.])"
      ]
     },
     "execution_count": 56,
     "metadata": {},
     "output_type": "execute_result"
    }
   ],
   "source": [
    "x = np.array([-1,0,2])\n",
    "y = np.array([1,-1,7])\n",
    "a = solve_linear(x, y)\n",
    "a"
   ]
  },
  {
   "cell_type": "markdown",
   "metadata": {},
   "source": []
  }
 ],
 "metadata": {
  "kernelspec": {
   "display_name": "DL",
   "language": "python",
   "name": "python3"
  },
  "language_info": {
   "codemirror_mode": {
    "name": "ipython",
    "version": 3
   },
   "file_extension": ".py",
   "mimetype": "text/x-python",
   "name": "python",
   "nbconvert_exporter": "python",
   "pygments_lexer": "ipython3",
   "version": "3.12.5"
  }
 },
 "nbformat": 4,
 "nbformat_minor": 2
}
