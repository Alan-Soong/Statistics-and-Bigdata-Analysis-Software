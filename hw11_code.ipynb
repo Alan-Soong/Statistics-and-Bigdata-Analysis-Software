{
 "cells": [
  {
   "cell_type": "markdown",
   "id": "70092fa5",
   "metadata": {},
   "source": [
    "# 统计与大数据分析软件第十一次作业"
   ]
  },
  {
   "cell_type": "markdown",
   "id": "7add3762",
   "metadata": {},
   "source": [
    "## 第一题"
   ]
  },
  {
   "cell_type": "markdown",
   "id": "e4e43df8",
   "metadata": {},
   "source": [
    "### （a）重新创建输出"
   ]
  },
  {
   "attachments": {
    "image.png": {
     "image/png": "[encoded data removed]"
    }
   },
   "cell_type": "markdown",
   "id": "6b6c208f",
   "metadata": {},
   "source": [
    "Re-create exactly the following output:\n",
    "\n",
    "![image.png](attachment:image.png)"
   ]
  },
  {
   "cell_type": "markdown",
   "id": "d92661e6",
   "metadata": {},
   "source": [
    "这一步使用换行符号和制表符号即可实现。需要注意：`\\t`通常用于表示一个制表符（8个空格），而不是4个空格。"
   ]
  },
  {
   "cell_type": "code",
   "execution_count": 1,
   "id": "c9cb504c",
   "metadata": {
    "vscode": {
     "languageId": "r"
    }
   },
   "outputs": [
    {
     "name": "stdout",
     "output_type": "stream",
     "text": [
      "\"The quick brown fox\n",
      "    jumped over\n",
      "\tthe lazy dogs\""
     ]
    }
   ],
   "source": [
    "cat(\"\\\"The quick brown fox\\n    jumped over\\n\\tthe lazy dogs\\\"\")"
   ]
  },
  {
   "cell_type": "markdown",
   "id": "20706919",
   "metadata": {},
   "source": [
    "### （b）存钱（字符串）相关"
   ]
  },
  {
   "cell_type": "markdown",
   "id": "81422be0",
   "metadata": {},
   "source": [
    "Store the string \"Two 6-packs for $16.99\". Then do the following:\n",
    "\n",
    "1. Use a check for equality to confirm that the substring beginning with character 5 and ending with character 10 is \"6-pack\".\n",
    "2. Make it a better deal by changing the price to $14.99."
   ]
  },
  {
   "cell_type": "markdown",
   "id": "1691a058",
   "metadata": {},
   "source": [
    "首先，我们将上面的字符串（Two 6-packs for $16.99）存储进入变量中。"
   ]
  },
  {
   "cell_type": "code",
   "execution_count": 2,
   "id": "2c942868",
   "metadata": {
    "vscode": {
     "languageId": "r"
    }
   },
   "outputs": [],
   "source": [
    "deal <- \"Two 6-packs for $16.99\""
   ]
  },
  {
   "cell_type": "markdown",
   "id": "9fcddf2c",
   "metadata": {},
   "source": [
    "1. 检查要求区间的字符是否符合要求，我们使用`substr`函数进行字符串分割，然后与目标比较："
   ]
  },
  {
   "cell_type": "code",
   "execution_count": 3,
   "id": "1bc2c703",
   "metadata": {
    "vscode": {
     "languageId": "r"
    }
   },
   "outputs": [
    {
     "name": "stdout",
     "output_type": "stream",
     "text": [
      "Substring is '6-pack': TRUE \n"
     ]
    }
   ],
   "source": [
    "substring_check <- substr(deal, 5, 10) == \"6-pack\"\n",
    "cat(\"Substring is '6-pack':\", substring_check, \"\\n\")"
   ]
  },
  {
   "cell_type": "markdown",
   "id": "242bce97",
   "metadata": {},
   "source": [
    "2. 修改价格，这里使用`sub`函数，将目标替换的值进行替换："
   ]
  },
  {
   "cell_type": "code",
   "execution_count": 4,
   "id": "6f6f537e",
   "metadata": {
    "vscode": {
     "languageId": "r"
    }
   },
   "outputs": [
    {
     "name": "stdout",
     "output_type": "stream",
     "text": [
      "Updated deal: Two 6-packs for $14.99 \n"
     ]
    }
   ],
   "source": [
    "deal_better <- sub(\"\\\\$16\", \"$14\", deal)    # deal_better <- sub(\"\\\\$16\\\\.99\", \"$14.99\", deal)也可以\n",
    "cat(\"Updated deal:\", deal_better, \"\\n\")"
   ]
  },
  {
   "cell_type": "markdown",
   "id": "e963dac1",
   "metadata": {},
   "source": [
    "> 需要注意的是，为了避免出现重复，我们使用`sub`函数的时候前两个参数的长度可以增加一些，防止其他数据被无辜替代。\n",
    "> \n",
    "> 例如，如果只把6换成4的话，前面的6显然也会被替代。"
   ]
  },
  {
   "cell_type": "markdown",
   "id": "bbd611c6",
   "metadata": {},
   "source": [
    "## 第二题"
   ]
  },
  {
   "attachments": {
    "image.png": {
     "image/png": "[encoded data removed]"
    }
   },
   "cell_type": "markdown",
   "id": "5577059e",
   "metadata": {},
   "source": [
    "Create a list that contains, in this order, \n",
    "\n",
    "> a **sequence** of 20 evenly spaced numbers between -4 and 4;\n",
    ">\n",
    "> a 3 * 3 **matrix** of the logical vector c(F,T,T,T,F,T,T,F,F) filled column-wise;\n",
    ">\n",
    "> a **character vector** with the two strings \"don\" and \"quixote\";\n",
    ">\n",
    "> and a **factor vector** containing the observations c(\"LOW\",\"MED\",\"LOW\",\"MED\",\"MED\",\"HIGH\").\n",
    "\n",
    "Then, do the following:\n",
    "\n",
    "1. Extract row elements 2 and 1 of columns 2 and 3, in that order, of the logical matrix.\n",
    "2. Use sub to overwrite \"quixote\" with \"Quixote\" and \"don\" with \"Don\" inside the list. Then, using the newly overwritten list member, concatenate to the console screen the following statement exactly:\n",
    "\n",
    "![image.png](attachment:image.png)\n",
    "\n",
    "3. Obtain all values from the sequence between -4 and 4 that are greater than 1.\n",
    "4. Determine which values in the factor vector are assigned the \"MED\" level."
   ]
  },
  {
   "cell_type": "markdown",
   "id": "e9dcdf9b",
   "metadata": {},
   "source": [
    "首先，我们进行列表的创建："
   ]
  },
  {
   "cell_type": "code",
   "execution_count": 5,
   "id": "e3907394",
   "metadata": {
    "vscode": {
     "languageId": "r"
    }
   },
   "outputs": [],
   "source": [
    "# 创建各个元素\n",
    "seq_vec <- seq(-4, 4, length.out = 20)\n",
    "log_mat <- matrix(c(FALSE, TRUE, TRUE, TRUE, FALSE, TRUE, TRUE, FALSE, FALSE), nrow = 3, byrow = FALSE)\n",
    "char_vec <- c(\"don\", \"quixote\")\n",
    "factor_vec <- factor(c(\"LOW\", \"MED\", \"LOW\", \"MED\", \"MED\", \"HIGH\"))\n",
    "\n",
    "# 创建列表\n",
    "my_list <- list(seq_vec, log_mat, char_vec, factor_vec)"
   ]
  },
  {
   "cell_type": "code",
   "execution_count": 6,
   "id": "077c9a8a",
   "metadata": {
    "vscode": {
     "languageId": "r"
    }
   },
   "outputs": [
    {
     "name": "stdout",
     "output_type": "stream",
     "text": [
      "[[1]]\n",
      " [1] -4.0000000 -3.5789474 -3.1578947 -2.7368421 -2.3157895 -1.8947368\n",
      " [7] -1.4736842 -1.0526316 -0.6315789 -0.2105263  0.2105263  0.6315789\n",
      "[13]  1.0526316  1.4736842  1.8947368  2.3157895  2.7368421  3.1578947\n",
      "[19]  3.5789474  4.0000000\n",
      "\n",
      "[[2]]\n",
      "      [,1]  [,2]  [,3]\n",
      "[1,] FALSE  TRUE  TRUE\n",
      "[2,]  TRUE FALSE FALSE\n",
      "[3,]  TRUE  TRUE FALSE\n",
      "\n",
      "[[3]]\n",
      "[1] \"don\"     \"quixote\"\n",
      "\n",
      "[[4]]\n",
      "[1] LOW  MED  LOW  MED  MED  HIGH\n",
      "Levels: HIGH LOW MED\n",
      "\n"
     ]
    }
   ],
   "source": [
    "print(my_list)"
   ]
  },
  {
   "cell_type": "markdown",
   "id": "4cbe42a7",
   "metadata": {},
   "source": [
    "### （a）矩形数据的提取"
   ]
  },
  {
   "cell_type": "markdown",
   "id": "90056be4",
   "metadata": {},
   "source": [
    "数据的第二个索引是矩阵，我们先进行提取："
   ]
  },
  {
   "cell_type": "code",
   "execution_count": 7,
   "id": "5fdcce28",
   "metadata": {
    "vscode": {
     "languageId": "r"
    }
   },
   "outputs": [
    {
     "name": "stdout",
     "output_type": "stream",
     "text": [
      "      [,1]  [,2]  [,3]\n",
      "[1,] FALSE  TRUE  TRUE\n",
      "[2,]  TRUE FALSE FALSE\n",
      "[3,]  TRUE  TRUE FALSE\n"
     ]
    }
   ],
   "source": [
    "mat <- my_list[[2]]\n",
    "print(mat)"
   ]
  },
  {
   "cell_type": "markdown",
   "id": "a6269838",
   "metadata": {
    "vscode": {
     "languageId": "r"
    }
   },
   "source": [
    "然后提取指定元素（按顺序：第2列第2行、第3列第1行）："
   ]
  },
  {
   "cell_type": "code",
   "execution_count": 8,
   "id": "dd09a3fe",
   "metadata": {
    "vscode": {
     "languageId": "r"
    }
   },
   "outputs": [
    {
     "name": "stdout",
     "output_type": "stream",
     "text": [
      "[1] FALSE  TRUE\n"
     ]
    }
   ],
   "source": [
    "elements <- c(mat[2,2], mat[1,3])\n",
    "print(elements)"
   ]
  },
  {
   "cell_type": "markdown",
   "id": "798fd8cc",
   "metadata": {},
   "source": [
    "### （b）替换字符串并输出"
   ]
  },
  {
   "cell_type": "markdown",
   "id": "57fb4750",
   "metadata": {},
   "source": [
    "数组的第三个元素是字符串，我们进行提取："
   ]
  },
  {
   "cell_type": "code",
   "execution_count": 9,
   "id": "a45c8f37",
   "metadata": {
    "vscode": {
     "languageId": "r"
    }
   },
   "outputs": [
    {
     "name": "stdout",
     "output_type": "stream",
     "text": [
      "[1] \"don\"     \"quixote\"\n"
     ]
    }
   ],
   "source": [
    "char_data <- my_list[[3]]\n",
    "print(char_data)"
   ]
  },
  {
   "cell_type": "markdown",
   "id": "3f43b6a4",
   "metadata": {},
   "source": [
    "接下来，我们进行替换："
   ]
  },
  {
   "cell_type": "code",
   "execution_count": 10,
   "id": "cf0514f8",
   "metadata": {
    "vscode": {
     "languageId": "r"
    }
   },
   "outputs": [
    {
     "name": "stdout",
     "output_type": "stream",
     "text": [
      "[1] \"Don\"     \"Quixote\"\n"
     ]
    }
   ],
   "source": [
    "char_data[char_data == \"don\"] <- sub(\"don\",\"Don\",char_data[char_data == \"don\"])\n",
    "char_data[char_data == \"quixote\"] <- sub(\"quixote\",\"Quixote\",char_data[char_data == \"quixote\"])\n",
    "print(char_data)"
   ]
  },
  {
   "cell_type": "markdown",
   "id": "b56f7a2d",
   "metadata": {},
   "source": [
    "然后，我们将字符串和向量连接起来。使用signature变量，它来自paste0这个函数，将每个元素以空格分格并转换成字符串："
   ]
  },
  {
   "cell_type": "code",
   "execution_count": 11,
   "id": "0135e833",
   "metadata": {
    "vscode": {
     "languageId": "r"
    }
   },
   "outputs": [
    {
     "name": "stdout",
     "output_type": "stream",
     "text": [
      "“Windmills! Attack!”\n",
      "    -\\Don Quixote/-"
     ]
    }
   ],
   "source": [
    "signature <- paste0(\"-\\\\\", paste(char_data, collapse = \" \"), \"/-\")\n",
    "cat(\"“Windmills! Attack!”\\n    \", signature, sep = \"\")"
   ]
  },
  {
   "cell_type": "markdown",
   "id": "cdd86db3",
   "metadata": {},
   "source": [
    "### （c）提取数组中大于特定数字的数"
   ]
  },
  {
   "cell_type": "markdown",
   "id": "aad796ba",
   "metadata": {
    "vscode": {
     "languageId": "r"
    }
   },
   "source": [
    "数据的第一个元素是序列，我们进行提取："
   ]
  },
  {
   "cell_type": "code",
   "execution_count": 12,
   "id": "8b0b5402",
   "metadata": {
    "vscode": {
     "languageId": "r"
    }
   },
   "outputs": [
    {
     "name": "stdout",
     "output_type": "stream",
     "text": [
      " [1] -4.0000000 -3.5789474 -3.1578947 -2.7368421 -2.3157895 -1.8947368\n",
      " [7] -1.4736842 -1.0526316 -0.6315789 -0.2105263  0.2105263  0.6315789\n",
      "[13]  1.0526316  1.4736842  1.8947368  2.3157895  2.7368421  3.1578947\n",
      "[19]  3.5789474  4.0000000\n"
     ]
    }
   ],
   "source": [
    "seq_data <- my_list[[1]]\n",
    "print(seq_data)"
   ]
  },
  {
   "cell_type": "markdown",
   "id": "870ce2ed",
   "metadata": {
    "vscode": {
     "languageId": "r"
    }
   },
   "source": [
    "接下来，获取大于1的值"
   ]
  },
  {
   "cell_type": "code",
   "execution_count": 13,
   "id": "0119b882",
   "metadata": {
    "vscode": {
     "languageId": "r"
    }
   },
   "outputs": [
    {
     "name": "stdout",
     "output_type": "stream",
     "text": [
      "[1] \"元素：\"\n",
      "[1] \"索引：\"\n"
     ]
    }
   ],
   "source": [
    "greater_than_1 <- seq_data[seq_data > 1]\n",
    "print(\"元素：\", greater_than_1)\n",
    "index <- which(seq_data > 1)\n",
    "print(\"索引：\", index)"
   ]
  },
  {
   "cell_type": "markdown",
   "id": "a2d20a8f",
   "metadata": {},
   "source": [
    "### （d）判断因子里面是否存在某值"
   ]
  },
  {
   "cell_type": "markdown",
   "id": "0442041f",
   "metadata": {
    "vscode": {
     "languageId": "r"
    }
   },
   "source": [
    "数据的第四个元素是因子，我们提取因子向量："
   ]
  },
  {
   "cell_type": "code",
   "execution_count": 14,
   "id": "4d31bb47",
   "metadata": {
    "vscode": {
     "languageId": "r"
    }
   },
   "outputs": [
    {
     "name": "stdout",
     "output_type": "stream",
     "text": [
      "[1] LOW  MED  LOW  MED  MED  HIGH\n",
      "Levels: HIGH LOW MED\n"
     ]
    }
   ],
   "source": [
    "factors <- my_list[[4]]\n",
    "print(factors)"
   ]
  },
  {
   "cell_type": "markdown",
   "id": "6397ac6e",
   "metadata": {
    "vscode": {
     "languageId": "r"
    }
   },
   "source": [
    "判断哪些元素是`MED`"
   ]
  },
  {
   "cell_type": "code",
   "execution_count": 15,
   "id": "dd2886c3",
   "metadata": {
    "vscode": {
     "languageId": "r"
    }
   },
   "outputs": [
    {
     "name": "stdout",
     "output_type": "stream",
     "text": [
      "[1] FALSE  TRUE FALSE  TRUE  TRUE FALSE\n"
     ]
    }
   ],
   "source": [
    "is_med <- factors == \"MED\"\n",
    "print(is_med)"
   ]
  },
  {
   "cell_type": "markdown",
   "id": "d9f23cb9",
   "metadata": {},
   "source": [
    "## 第三题"
   ]
  },
  {
   "cell_type": "markdown",
   "id": "14f56018",
   "metadata": {},
   "source": [
    "### （a）大数数组处理"
   ]
  },
  {
   "cell_type": "markdown",
   "id": "7a6f8c87",
   "metadata": {},
   "source": [
    "Store the following vector:"
   ]
  },
  {
   "cell_type": "code",
   "execution_count": 16,
   "id": "0aef3a7f",
   "metadata": {
    "vscode": {
     "languageId": "r"
    }
   },
   "outputs": [
    {
     "name": "stdout",
     "output_type": "stream",
     "text": [
      " [1]  13563 -14156 -14319  16981  12921  11979   9568   8833 -12968   8133\n"
     ]
    }
   ],
   "source": [
    "foo <- c(13563,-14156,-14319,16981,12921,11979,9568,8833,-12968,8133)\n",
    "print(foo)"
   ]
  },
  {
   "cell_type": "markdown",
   "id": "15ec4aca",
   "metadata": {},
   "source": [
    "\n",
    "Then, do the following:"
   ]
  },
  {
   "cell_type": "markdown",
   "id": "f876a215",
   "metadata": {},
   "source": [
    "\n",
    "1. Output all elements of foo that, when raised to a power of 75, are not infinite."
   ]
  },
  {
   "cell_type": "markdown",
   "id": "df318d4b",
   "metadata": {},
   "source": [
    "要判断一个数组每个数的75次方是否为无穷，我们可以先进行相关操作："
   ]
  },
  {
   "cell_type": "code",
   "execution_count": 17,
   "id": "97d51027",
   "metadata": {
    "vscode": {
     "languageId": "r"
    }
   },
   "outputs": [
    {
     "name": "stdout",
     "output_type": "stream",
     "text": [
      " [1]           Inf          -Inf          -Inf           Inf           Inf\n",
      " [6] 7.612764e+305 3.644077e+298 9.080657e+295          -Inf 1.856983e+293\n"
     ]
    }
   ],
   "source": [
    "LargeNumber <- foo^75\n",
    "print(LargeNumber)"
   ]
  },
  {
   "cell_type": "markdown",
   "id": "e477c052",
   "metadata": {},
   "source": [
    "显然不行，那么我们进行筛选："
   ]
  },
  {
   "cell_type": "code",
   "execution_count": 18,
   "id": "74810bb1",
   "metadata": {
    "vscode": {
     "languageId": "r"
    }
   },
   "outputs": [
    {
     "name": "stdout",
     "output_type": "stream",
     "text": [
      "Not infinite when raised to power 75:\n",
      "[1] 11979  9568  8833  8133\n"
     ]
    }
   ],
   "source": [
    "not_infinite <- foo[!is.infinite(LargeNumber)]\n",
    "cat(\"Not infinite when raised to power 75:\\n\")\n",
    "print(not_infinite)"
   ]
  },
  {
   "cell_type": "markdown",
   "id": "51e73b5f",
   "metadata": {},
   "source": [
    "2. Return the elements of foo deleting those that, when raised to a power of 75, are negative infinity."
   ]
  },
  {
   "cell_type": "markdown",
   "id": "4158a9c2",
   "metadata": {},
   "source": [
    "筛选那些75次方不会产生负无穷的数字："
   ]
  },
  {
   "cell_type": "code",
   "execution_count": 19,
   "id": "981de8a9",
   "metadata": {
    "vscode": {
     "languageId": "r"
    }
   },
   "outputs": [
    {
     "name": "stdout",
     "output_type": "stream",
     "text": [
      "Elements not resulting in -Inf when raised to power 75:\n",
      "[1] 13563 16981 12921 11979  9568  8833  8133\n"
     ]
    }
   ],
   "source": [
    "not_neg_infinite <- foo[!(LargeNumber == -Inf)]\n",
    "cat(\"Elements not resulting in -Inf when raised to power 75:\\n\")\n",
    "print(not_neg_infinite)"
   ]
  },
  {
   "cell_type": "markdown",
   "id": "1348a69b",
   "metadata": {},
   "source": [
    "### （b）NA数组存储"
   ]
  },
  {
   "cell_type": "markdown",
   "id": "afbd243b",
   "metadata": {},
   "source": [
    "Create and store a list containing a single member: the vector c(7,7,NA,3,NA,1,1,5,NA). Then, do the following:\n",
    "\n",
    "1. Name the member \"alpha\".\n",
    "2. Formally confirm using the appropriate logical-valued function that the list does not have a member with the name \"beta\".\n",
    "3. Incorporate into the list a new member called beta, which is the vector obtained by identifying the index positions of alpha that are NA."
   ]
  },
  {
   "cell_type": "markdown",
   "id": "f593e0ca",
   "metadata": {
    "vscode": {
     "languageId": "r"
    }
   },
   "source": [
    "首先，创建并存储列表"
   ]
  },
  {
   "cell_type": "code",
   "execution_count": 20,
   "id": "795984bc",
   "metadata": {
    "vscode": {
     "languageId": "r"
    }
   },
   "outputs": [
    {
     "name": "stdout",
     "output_type": "stream",
     "text": [
      "[[1]]\n",
      "[1]  7  7 NA  3 NA  1  1  5 NA\n",
      "\n"
     ]
    }
   ],
   "source": [
    "my_list <- list(c(7,7,NA,3,NA,1,1,5,NA))\n",
    "print(my_list)"
   ]
  },
  {
   "cell_type": "markdown",
   "id": "9f3b4d07",
   "metadata": {},
   "source": [
    "1. 接下来，对成员进行命名："
   ]
  },
  {
   "cell_type": "code",
   "execution_count": 21,
   "id": "26b5fb1c",
   "metadata": {
    "vscode": {
     "languageId": "r"
    }
   },
   "outputs": [
    {
     "name": "stdout",
     "output_type": "stream",
     "text": [
      "$alpha\n",
      "[1]  7  7 NA  3 NA  1  1  5 NA\n",
      "\n"
     ]
    }
   ],
   "source": [
    "names(my_list) <- \"alpha\"\n",
    "print(my_list)"
   ]
  },
  {
   "cell_type": "markdown",
   "id": "f6f6804a",
   "metadata": {},
   "source": [
    "2. 使用逻辑值函数确认没有名为 \"beta\" 的成员"
   ]
  },
  {
   "cell_type": "code",
   "execution_count": 22,
   "id": "34c1a36d",
   "metadata": {
    "vscode": {
     "languageId": "r"
    }
   },
   "outputs": [
    {
     "name": "stdout",
     "output_type": "stream",
     "text": [
      "List has 'beta' member: FALSE \n"
     ]
    }
   ],
   "source": [
    "has_beta <- \"beta\" %in% names(my_list)\n",
    "cat(\"List has 'beta' member:\", has_beta, \"\\n\")  # 应该输出 FALSE"
   ]
  },
  {
   "cell_type": "markdown",
   "id": "149ac9cf",
   "metadata": {
    "vscode": {
     "languageId": "r"
    }
   },
   "source": [
    "3. 添加名为 \"beta\" 的新成员，内容为 alpha 中 NA 的索引位置"
   ]
  },
  {
   "cell_type": "code",
   "execution_count": 23,
   "id": "d1ba31a8",
   "metadata": {
    "vscode": {
     "languageId": "r"
    }
   },
   "outputs": [
    {
     "name": "stdout",
     "output_type": "stream",
     "text": [
      "$alpha\n",
      "[1]  7  7 NA  3 NA  1  1  5 NA\n",
      "\n",
      "$beta\n",
      "[1] 3 5 9\n",
      "\n"
     ]
    }
   ],
   "source": [
    "my_list$beta <- which(is.na(my_list$alpha))\n",
    "print(my_list)"
   ]
  },
  {
   "cell_type": "markdown",
   "id": "e1c2106e",
   "metadata": {},
   "source": [
    "### （c）矩阵相关"
   ]
  },
  {
   "cell_type": "markdown",
   "id": "a6cf738d",
   "metadata": {},
   "source": [
    "Store the following matrix:"
   ]
  },
  {
   "cell_type": "code",
   "execution_count": 24,
   "id": "f71c496d",
   "metadata": {
    "vscode": {
     "languageId": "r"
    }
   },
   "outputs": [],
   "source": [
    "m <- matrix(c(\n",
    "  34, 0, 1,\n",
    "  23, 1, 2,\n",
    "  33, 1, 1,\n",
    "  42, 0, 1,\n",
    "  41, 0, 2\n",
    "), ncol = 3, byrow = TRUE)"
   ]
  },
  {
   "cell_type": "markdown",
   "id": "2e404e98",
   "metadata": {},
   "source": [
    "Then, do the following:\n",
    "\n",
    "1. Coerce the matrix to a data frame.\n",
    "2. As a data frame, coerce the second column to be logical valued.\n",
    "3. As a data frame, coerce the third column to be factor-valued."
   ]
  },
  {
   "cell_type": "markdown",
   "id": "fca246d7",
   "metadata": {},
   "source": [
    "我们在刚开始已经创建好了矩阵，现在打印出来看一下："
   ]
  },
  {
   "cell_type": "code",
   "execution_count": 25,
   "id": "5b739542",
   "metadata": {
    "vscode": {
     "languageId": "r"
    }
   },
   "outputs": [
    {
     "name": "stdout",
     "output_type": "stream",
     "text": [
      "     [,1] [,2] [,3]\n",
      "[1,]   34    0    1\n",
      "[2,]   23    1    2\n",
      "[3,]   33    1    1\n",
      "[4,]   42    0    1\n",
      "[5,]   41    0    2\n"
     ]
    }
   ],
   "source": [
    "print(m)"
   ]
  },
  {
   "cell_type": "markdown",
   "id": "c14692c8",
   "metadata": {},
   "source": [
    "1. 接下来，我们将矩阵转换成data frame的形式："
   ]
  },
  {
   "cell_type": "code",
   "execution_count": 26,
   "id": "fdd1f47f",
   "metadata": {
    "vscode": {
     "languageId": "r"
    }
   },
   "outputs": [
    {
     "name": "stdout",
     "output_type": "stream",
     "text": [
      "  V1 V2 V3\n",
      "1 34  0  1\n",
      "2 23  1  2\n",
      "3 33  1  1\n",
      "4 42  0  1\n",
      "5 41  0  2\n"
     ]
    }
   ],
   "source": [
    "df <- as.data.frame(m)\n",
    "print(df)"
   ]
  },
  {
   "cell_type": "markdown",
   "id": "fb9cc64b",
   "metadata": {},
   "source": [
    "2. 按照要求，将第二列转换为逻辑值："
   ]
  },
  {
   "cell_type": "code",
   "execution_count": 27,
   "id": "affb56e6",
   "metadata": {
    "vscode": {
     "languageId": "r"
    }
   },
   "outputs": [
    {
     "name": "stdout",
     "output_type": "stream",
     "text": [
      "  V1    V2 V3\n",
      "1 34 FALSE  1\n",
      "2 23  TRUE  2\n",
      "3 33  TRUE  1\n",
      "4 42 FALSE  1\n",
      "5 41 FALSE  2\n"
     ]
    }
   ],
   "source": [
    "df[[2]] <- as.logical(df[[2]])\n",
    "print(df)"
   ]
  },
  {
   "cell_type": "markdown",
   "id": "ddd760d8",
   "metadata": {
    "vscode": {
     "languageId": "r"
    }
   },
   "source": [
    "3. 将第三列转换为因子"
   ]
  },
  {
   "cell_type": "code",
   "execution_count": 28,
   "id": "8aed25d3",
   "metadata": {
    "vscode": {
     "languageId": "r"
    }
   },
   "outputs": [
    {
     "name": "stdout",
     "output_type": "stream",
     "text": [
      "  V1    V2 V3\n",
      "1 34 FALSE  1\n",
      "2 23  TRUE  2\n",
      "3 33  TRUE  1\n",
      "4 42 FALSE  1\n",
      "5 41 FALSE  2\n"
     ]
    }
   ],
   "source": [
    "df[[3]] <- as.factor(df[[3]])\n",
    "print(df)"
   ]
  },
  {
   "cell_type": "markdown",
   "id": "bacf2580",
   "metadata": {},
   "source": [
    "这里好像看不出来因子变换对于数据有什么影响，我们进一步展开："
   ]
  },
  {
   "cell_type": "code",
   "execution_count": 29,
   "id": "cab11e53",
   "metadata": {
    "vscode": {
     "languageId": "r"
    }
   },
   "outputs": [
    {
     "name": "stdout",
     "output_type": "stream",
     "text": [
      "[1] 1 2 1 1 2\n",
      "Levels: 1 2\n"
     ]
    }
   ],
   "source": [
    "print(df[[3]])"
   ]
  },
  {
   "cell_type": "markdown",
   "id": "cf01bde5",
   "metadata": {},
   "source": [
    "这样就看出来了，factor是一个向量对象，用于指定其他向量的离散分类（分组）。"
   ]
  },
  {
   "cell_type": "markdown",
   "id": "51a05c91",
   "metadata": {},
   "source": []
  }
 ],
 "metadata": {
  "kernelspec": {
   "display_name": "R 4.4",
   "language": "R",
   "name": "ir44"
  },
  "language_info": {
   "codemirror_mode": "r",
   "file_extension": ".r",
   "mimetype": "text/x-r-source",
   "name": "R",
   "pygments_lexer": "r",
   "version": "4.4.2"
  }
 },
 "nbformat": 4,
 "nbformat_minor": 5
}
