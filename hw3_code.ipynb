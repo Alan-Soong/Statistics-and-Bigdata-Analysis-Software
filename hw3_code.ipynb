{
 "cells": [
  {
   "cell_type": "markdown",
   "metadata": {},
   "source": [
    "# 统计与大数据分析软件第三次作业"
   ]
  },
  {
   "cell_type": "code",
   "execution_count": 2,
   "metadata": {},
   "outputs": [],
   "source": [
    "import import_ipynb"
   ]
  },
  {
   "cell_type": "markdown",
   "metadata": {},
   "source": [
    "## 第一题\n",
    "\n",
    "汽车：编写一个函数，将一辆汽车的信息存储在一个字典中。这个函数总是接受制造商和型号，还接受任意数量的关键字实参。\n",
    "\n",
    "这样调用这个函数：提供必不可少的信息，以及两个名称—值对，如颜色和选装配件。\n",
    "\n",
    "这个函数必须能够像下面这样进行调用：\n",
    "``car = make_car('subaru', 'outback', color='blue', tow_package=True)``\n",
    "\n",
    "\n",
    "打印返回的字典，确认正确地处理了所有的信息。"
   ]
  },
  {
   "cell_type": "code",
   "execution_count": 100,
   "metadata": {},
   "outputs": [],
   "source": [
    "def make_car(manufacturer, model, **car_info):\n",
    "    \"\"\"创建一个描述汽车的字典\"\"\"\n",
    "    car_info['manufacturer'] = manufacturer # 添加制造商键值对\n",
    "    car_info['model'] = model # 添加型号键值对\n",
    "    return car_info\n"
   ]
  },
  {
   "cell_type": "markdown",
   "metadata": {},
   "source": [
    "调用函数，提供必要信息和额外的键值对："
   ]
  },
  {
   "cell_type": "code",
   "execution_count": 101,
   "metadata": {},
   "outputs": [],
   "source": [
    "car = make_car('subaru', 'outback', color='blue', tow_package=True)"
   ]
  },
  {
   "cell_type": "markdown",
   "metadata": {},
   "source": [
    "打印返回的字典："
   ]
  },
  {
   "cell_type": "code",
   "execution_count": 102,
   "metadata": {},
   "outputs": [
    {
     "name": "stdout",
     "output_type": "stream",
     "text": [
      "{'color': 'blue', 'tow_package': True, 'manufacturer': 'subaru', 'model': 'outback'}\n"
     ]
    }
   ],
   "source": [
    "print(car)"
   ]
  },
  {
   "cell_type": "markdown",
   "metadata": {},
   "source": [
    "## 第二题\n",
    "\n",
    "餐馆：创建一个名为``Restaurant``的类，其方法``__init__()``设置两个属性：``restaurant_name``和``cuisine_type``。\n",
    "\n",
    "创建一个名为``describe_restaurant()``的方法和一个名为``open_restaurant()``的方法，\n",
    "\n",
    "其中前者打印前述两项信息，而后者打印一条消息，指出餐馆正在营业。\n",
    "\n",
    "根据这个类创建一个名为``restaurant``的实例，分别打印其两个属性，再调用前述两个方法。"
   ]
  },
  {
   "cell_type": "code",
   "execution_count": 103,
   "metadata": {},
   "outputs": [],
   "source": [
    "class Restaurant:\n",
    "    # 初始化属性：名称和类型\n",
    "    def __init__(self, restaurant_name, cuisine_type):\n",
    "        self.restaurant_name = restaurant_name\n",
    "        self.cuisine_type = cuisine_type\n",
    "    # 定义方法：描述餐馆\n",
    "    def describe_restaurant(self):\n",
    "        print(f\"{self.restaurant_name} serves wonderful {self.cuisine_type}.\")\n",
    "    # 定义方法：餐馆营业中\n",
    "    def open_restaurant(self):\n",
    "        print(f\"{self.restaurant_name} is open. Come on in!\")"
   ]
  },
  {
   "cell_type": "markdown",
   "metadata": {},
   "source": [
    "创建实例："
   ]
  },
  {
   "cell_type": "code",
   "execution_count": 104,
   "metadata": {},
   "outputs": [
    {
     "name": "stdout",
     "output_type": "stream",
     "text": [
      "McDolands serves wonderful fast food.\n",
      "McDolands is open. Come on in!\n"
     ]
    }
   ],
   "source": [
    "McDolands = Restaurant('McDolands', 'fast food')\n",
    "McDolands.describe_restaurant()\n",
    "McDolands.open_restaurant()"
   ]
  },
  {
   "cell_type": "markdown",
   "metadata": {},
   "source": [
    "## 第三题\n",
    "\n",
    "三家餐馆：根据你为完成练习2而编写的类创建三个实例，并对每个实例调用方法``describe_restaurant()``。"
   ]
  },
  {
   "cell_type": "code",
   "execution_count": 105,
   "metadata": {},
   "outputs": [
    {
     "name": "stdout",
     "output_type": "stream",
     "text": [
      "KFC serves wonderful fried chicken.\n"
     ]
    }
   ],
   "source": [
    "KFC = Restaurant('KFC', 'fried chicken')\n",
    "KFC.describe_restaurant()"
   ]
  },
  {
   "cell_type": "code",
   "execution_count": 106,
   "metadata": {},
   "outputs": [
    {
     "name": "stdout",
     "output_type": "stream",
     "text": [
      "Burgerking serves wonderful hamburger.\n"
     ]
    }
   ],
   "source": [
    "Burgerking = Restaurant('Burgerking', 'hamburger')\n",
    "Burgerking.describe_restaurant()"
   ]
  },
  {
   "cell_type": "code",
   "execution_count": 107,
   "metadata": {},
   "outputs": [
    {
     "name": "stdout",
     "output_type": "stream",
     "text": [
      "Haidilao serves wonderful hotpot.\n"
     ]
    }
   ],
   "source": [
    "Haidilao = Restaurant('Haidilao', 'hotpot')\n",
    "Haidilao.describe_restaurant()"
   ]
  },
  {
   "cell_type": "markdown",
   "metadata": {},
   "source": [
    "## 第四题\n",
    "\n",
    "用户：创建一个名为``User``的类，其中包含属性``first_name``和``last_name``，还有用户简介通常会存储的其他几个属性。\n",
    "\n",
    "在类``User``中定义一个名为``describe_user()``的方法，它打印用户信息摘要；\n",
    "\n",
    "再定义一个名为``greet_user()``的方法，它向用户发出个性化的问候。\n",
    "\n",
    "创建多个表示不同用户的实例，并对每个实例都调用上述两个方法。"
   ]
  },
  {
   "cell_type": "code",
   "execution_count": 108,
   "metadata": {},
   "outputs": [],
   "source": [
    "class User:\n",
    "    def __init__(self, first_name, last_name, gender, age, nationality):\n",
    "        self.first_name = first_name\n",
    "        self.last_name = last_name\n",
    "        self.gender = gender\n",
    "        self.age = age\n",
    "        self.nationality = nationality\n",
    "    \n",
    "    def describe_user(self):\n",
    "        print(f\"The person's name: {self.first_name} {self.last_name}, gender: {self.gender}, age: {self.age}, nationality: {self.nationality}.\")\n",
    "\n",
    "    def greet_user(self):\n",
    "        print(f\"Hello, {self.first_name} {self.last_name}! Nice to meet you!\")"
   ]
  },
  {
   "cell_type": "code",
   "execution_count": 109,
   "metadata": {},
   "outputs": [
    {
     "name": "stdout",
     "output_type": "stream",
     "text": [
      "The person's name: Mike Jordan, gender: male, age: 25, nationality: American.\n",
      "Hello, Mike Jordan! Nice to meet you!\n"
     ]
    }
   ],
   "source": [
    "Mike = User('Mike', 'Jordan', 'male', 25, 'American')\n",
    "Mike.describe_user()\n",
    "Mike.greet_user()"
   ]
  },
  {
   "cell_type": "code",
   "execution_count": 110,
   "metadata": {},
   "outputs": [
    {
     "name": "stdout",
     "output_type": "stream",
     "text": [
      "The person's name: Lucy Liu, gender: female, age: 19, nationality: Singlish.\n",
      "Hello, Lucy Liu! Nice to meet you!\n"
     ]
    }
   ],
   "source": [
    "Lucy = User('Lucy', 'Liu', 'female', '19', 'Singlish')\n",
    "Lucy.describe_user()\n",
    "Lucy.greet_user()"
   ]
  },
  {
   "cell_type": "code",
   "execution_count": 111,
   "metadata": {},
   "outputs": [
    {
     "name": "stdout",
     "output_type": "stream",
     "text": [
      "The person's name: Alan Soong, gender: male, age: 21, nationality: Chinese.\n",
      "Hello, Alan Soong! Nice to meet you!\n"
     ]
    }
   ],
   "source": [
    "Alan_Soong  = User('Alan','Soong', 'male', '21', 'Chinese')\n",
    "Alan_Soong.describe_user()\n",
    "Alan_Soong.greet_user()"
   ]
  },
  {
   "cell_type": "markdown",
   "metadata": {},
   "source": [
    "## 第五题\n",
    "\n",
    "就餐人数：在为完成练习2而编写的程序中，添加一个名为``number_served``的属性，并将其默认值设置为0。\n",
    "\n",
    "根据这个类创建一个名为``restaurant``的实例；打印有多少人在这家餐馆就餐过，然后修改这个值并再次打印它。\n",
    "\n",
    "添加一个名为``set_number_served()``的方法，它让你能够设置就餐人数。\n",
    "\n",
    "调用这个方法并向它传递一个值，然后再次打印这个值。\n",
    "\n",
    "添加一个名为``increment_number_served()``的方法，它让你能够将就餐人数递增。\n",
    "\n",
    "调用这个方法并向它传递一个这样的值：你认为这家餐馆每天可能接待的就餐人数。"
   ]
  },
  {
   "cell_type": "code",
   "execution_count": null,
   "metadata": {},
   "outputs": [],
   "source": [
    "class Restaurant_Zero(Restaurant):\n",
    "    # 使用继承进行初始化属性并添加某个属性\n",
    "    def __init__(self, restaurant_name, cuisine_type):\n",
    "        super().__init__(restaurant_name, cuisine_type)\n",
    "        self.number_served = 0\n",
    "\n",
    "    # 添加方法：设置就餐人数\n",
    "    def set_number_served(self, number):\n",
    "        self.number_served = number\n",
    "        print(\n",
    "            f\"In {self.restaurant_name}, {self.number_served} people have been served.\"\n",
    "        )\n",
    "\n",
    "    # 添加方法：增加就餐人数\n",
    "    def increment_number_served(self, number):\n",
    "        self.number_served += number\n",
    "        print(f\"Now {self.number_served} people have been served.\")"
   ]
  },
  {
   "cell_type": "markdown",
   "metadata": {},
   "source": [
    "实例化代码："
   ]
  },
  {
   "cell_type": "code",
   "execution_count": null,
   "metadata": {},
   "outputs": [
    {
     "name": "stdout",
     "output_type": "stream",
     "text": [
      "Saizeriya serves wonderful Italian.\n",
      "Saizeriya is open. Come on in!\n",
      "In Saizeriya, 10 people have been served.\n",
      "Now 20 people have been served.\n"
     ]
    }
   ],
   "source": [
    "Saizeriya = Restaurant_Zero(\"Saizeriya\", \"Italian\")\n",
    "Saizeriya.describe_restaurant()\n",
    "Saizeriya.open_restaurant()\n",
    "Saizeriya.set_number_served(10)\n",
    "Saizeriya.increment_number_served(10)"
   ]
  },
  {
   "cell_type": "markdown",
   "metadata": {},
   "source": [
    "## 第六题\n",
    "\n",
    "尝试登录次数：在为完成练习4而编写的``User``类中，添加一个名为``login_attempts``的属性。\n",
    "\n",
    "编写一个名为``increment_login_attempts()``的方法，它将属性``login_attempts``的值加1。\n",
    "\n",
    "再编写一个名为``reset_login_attempts()``的方法，它将属性``login_attempts``的值重置为0。\n",
    "\n",
    "根据``User``类创建一个实例，再调用方法``increment_login_attempts()``多次。\n",
    "\n",
    "打印属性``login_attempts``的值，确认它被正确地递增；\n",
    "\n",
    "然后，调用方法``reset_login_attempts()``，并再次打印属性``login_attempts``的值，确认它被重置为0。"
   ]
  },
  {
   "cell_type": "code",
   "execution_count": null,
   "metadata": {},
   "outputs": [],
   "source": [
    "class User_add(User):\n",
    "    # 初始化属性，使用继承添加属性\n",
    "    def __init__(self, first_name, last_name, gender, age, nationality):\n",
    "        super().__init__(first_name, last_name, gender, age, nationality)\n",
    "        self.login_attempts = 0\n",
    "\n",
    "    # 定义方法：注册次数增加\n",
    "    def increment_login_attempts(self):\n",
    "        self.login_attempts += 1\n",
    "\n",
    "    # 定义方法：重置登录次数\n",
    "    def reset_login_attempts(self):\n",
    "        self.login_attempts = 0\n",
    "\n",
    "    # 定义方法：显示登录次数\n",
    "    def show_login_attempts(self):\n",
    "        print(f\"The person has logined the number of {self.login_attempts}. \")"
   ]
  },
  {
   "cell_type": "markdown",
   "metadata": {},
   "source": [
    "实例化代码："
   ]
  },
  {
   "cell_type": "code",
   "execution_count": null,
   "metadata": {},
   "outputs": [
    {
     "name": "stdout",
     "output_type": "stream",
     "text": [
      "The person's name: Simon Smith, gender: male, age: 26, nationality: English.\n"
     ]
    }
   ],
   "source": [
    "Simon_Smith = User_add(\"Simon\", \"Smith\", \"male\", \"26\", \"English\")\n",
    "Simon_Smith.describe_user()"
   ]
  },
  {
   "cell_type": "markdown",
   "metadata": {},
   "source": [
    "增加登录次数："
   ]
  },
  {
   "cell_type": "code",
   "execution_count": null,
   "metadata": {},
   "outputs": [
    {
     "name": "stdout",
     "output_type": "stream",
     "text": [
      "The person has logined the number of 9. \n"
     ]
    }
   ],
   "source": [
    "for i in range(1, 10):\n",
    "    Simon_Smith.increment_login_attempts()\n",
    "Simon_Smith.show_login_attempts()"
   ]
  },
  {
   "cell_type": "markdown",
   "metadata": {},
   "source": [
    "清空登录次数："
   ]
  },
  {
   "cell_type": "code",
   "execution_count": 117,
   "metadata": {},
   "outputs": [
    {
     "name": "stdout",
     "output_type": "stream",
     "text": [
      "The person has logined the number of 0. \n"
     ]
    }
   ],
   "source": [
    "Simon_Smith.reset_login_attempts()\n",
    "Simon_Smith.show_login_attempts()"
   ]
  }
 ],
 "metadata": {
  "kernelspec": {
   "display_name": "DL",
   "language": "python",
   "name": "python3"
  },
  "language_info": {
   "codemirror_mode": {
    "name": "ipython",
    "version": 3
   },
   "file_extension": ".py",
   "mimetype": "text/x-python",
   "name": "python",
   "nbconvert_exporter": "python",
   "pygments_lexer": "ipython3",
   "version": "3.12.5"
  }
 },
 "nbformat": 4,
 "nbformat_minor": 2
}
