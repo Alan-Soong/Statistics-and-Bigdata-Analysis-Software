{
 "cells": [
  {
   "cell_type": "markdown",
   "id": "94aa163f",
   "metadata": {},
   "source": [
    "# 统计与大数据分析软件第十次作业"
   ]
  },
  {
   "cell_type": "markdown",
   "id": "466d66e3",
   "metadata": {},
   "source": [
    "## 第一题"
   ]
  },
  {
   "cell_type": "markdown",
   "id": "2e4ff242",
   "metadata": {},
   "source": [
    "创建并储存三维数组，该数组有6层，每层是4*2阶矩阵，并以适当的步长按降序将4.8-0.1填充到数组中。\n",
    "\n",
    "然后按照顺序提取所有层的第二列第四行和第一行的所有元素，并存储为一个新的对象。"
   ]
  },
  {
   "cell_type": "code",
   "execution_count": 1,
   "id": "1ce0b9ac",
   "metadata": {
    "vscode": {
     "languageId": "r"
    }
   },
   "outputs": [],
   "source": [
    "# 创建降序向量，从 4.8 到 0.1，步长适当\n",
    "values <- round(seq(4.8, 0.1, by = -0.1), 1)"
   ]
  },
  {
   "cell_type": "code",
   "execution_count": 2,
   "id": "dcbb9eda",
   "metadata": {
    "vscode": {
     "languageId": "r"
    }
   },
   "outputs": [
    {
     "data": {
      "text/html": [
       "48"
      ],
      "text/latex": [
       "48"
      ],
      "text/markdown": [
       "48"
      ],
      "text/plain": [
       "[1] 48"
      ]
     },
     "metadata": {},
     "output_type": "display_data"
    }
   ],
   "source": [
    "# 检查长度是否符合 6 层 * 4 行 * 2 列 = 48\n",
    "length(values)  # 应该是 48"
   ]
  },
  {
   "cell_type": "code",
   "execution_count": 3,
   "id": "4dc85031",
   "metadata": {
    "vscode": {
     "languageId": "r"
    }
   },
   "outputs": [
    {
     "name": "stdout",
     "output_type": "stream",
     "text": [
      ", , 1\n",
      "\n",
      "     [,1] [,2]\n",
      "[1,]  4.8  4.4\n",
      "[2,]  4.7  4.3\n",
      "[3,]  4.6  4.2\n",
      "[4,]  4.5  4.1\n",
      "\n",
      ", , 2\n",
      "\n",
      "     [,1] [,2]\n",
      "[1,]  4.0  3.6\n",
      "[2,]  3.9  3.5\n",
      "[3,]  3.8  3.4\n",
      "[4,]  3.7  3.3\n",
      "\n",
      ", , 3\n",
      "\n",
      "     [,1] [,2]\n",
      "[1,]  3.2  2.8\n",
      "[2,]  3.1  2.7\n",
      "[3,]  3.0  2.6\n",
      "[4,]  2.9  2.5\n",
      "\n",
      ", , 4\n",
      "\n",
      "     [,1] [,2]\n",
      "[1,]  2.4  2.0\n",
      "[2,]  2.3  1.9\n",
      "[3,]  2.2  1.8\n",
      "[4,]  2.1  1.7\n",
      "\n",
      ", , 5\n",
      "\n",
      "     [,1] [,2]\n",
      "[1,]  1.6  1.2\n",
      "[2,]  1.5  1.1\n",
      "[3,]  1.4  1.0\n",
      "[4,]  1.3  0.9\n",
      "\n",
      ", , 6\n",
      "\n",
      "     [,1] [,2]\n",
      "[1,]  0.8  0.4\n",
      "[2,]  0.7  0.3\n",
      "[3,]  0.6  0.2\n",
      "[4,]  0.5  0.1\n",
      "\n"
     ]
    }
   ],
   "source": [
    "# 创建三维数组：维度为 4x2x6\n",
    "arr <- array(values, dim = c(4, 2, 6))\n",
    "print(arr)  # 把“层”放到第一维"
   ]
  },
  {
   "cell_type": "code",
   "execution_count": 4,
   "id": "cc5ceaf2",
   "metadata": {
    "vscode": {
     "languageId": "r"
    }
   },
   "outputs": [],
   "source": [
    "# 初始化结果矩阵，每行对应一层，共6行\n",
    "# 每行包括：row4_col2、row1_col1、row1_col2\n",
    "\n",
    "result <- matrix(nrow = 6, ncol = 3)"
   ]
  },
  {
   "cell_type": "code",
   "execution_count": 5,
   "id": "02c24560",
   "metadata": {
    "vscode": {
     "languageId": "r"
    }
   },
   "outputs": [
    {
     "data": {
      "text/html": [
       "<style>\n",
       ".list-inline {list-style: none; margin:0; padding: 0}\n",
       ".list-inline>li {display: inline-block}\n",
       ".list-inline>li:not(:last-child)::after {content: \"\\00b7\"; padding: 0 .5ex}\n",
       "</style>\n",
       "<ol class=list-inline><li>'row4_col2'</li><li>'row1_col1'</li><li>'row1_col2'</li></ol>\n"
      ],
      "text/latex": [
       "\\begin{enumerate*}\n",
       "\\item 'row4\\_col2'\n",
       "\\item 'row1\\_col1'\n",
       "\\item 'row1\\_col2'\n",
       "\\end{enumerate*}\n"
      ],
      "text/markdown": [
       "1. 'row4_col2'\n",
       "2. 'row1_col1'\n",
       "3. 'row1_col2'\n",
       "\n",
       "\n"
      ],
      "text/plain": [
       "[1] \"row4_col2\" \"row1_col1\" \"row1_col2\""
      ]
     },
     "metadata": {},
     "output_type": "display_data"
    }
   ],
   "source": [
    "colnames(result) <- c(\"row4_col2\", \"row1_col1\", \"row1_col2\")\n",
    "colnames(result)  # 设置列名"
   ]
  },
  {
   "cell_type": "code",
   "execution_count": 6,
   "id": "8da8ab4d",
   "metadata": {
    "vscode": {
     "languageId": "r"
    }
   },
   "outputs": [],
   "source": [
    "for (i in 1:6) {\n",
    "  row4_col2 <- arr[4, 2, i]\n",
    "  row1_col1 <- arr[1, 1, i]\n",
    "  row1_col2 <- arr[1, 2, i]\n",
    "  result[i, ] <- c(row4_col2, row1_col1, row1_col2)\n",
    "}"
   ]
  },
  {
   "cell_type": "code",
   "execution_count": 7,
   "id": "9262e8a3",
   "metadata": {
    "vscode": {
     "languageId": "r"
    }
   },
   "outputs": [
    {
     "data": {
      "text/html": [
       "<table class=\"dataframe\">\n",
       "<caption>A matrix: 6 × 3 of type dbl</caption>\n",
       "<thead>\n",
       "\t<tr><th scope=col>row4_col2</th><th scope=col>row1_col1</th><th scope=col>row1_col2</th></tr>\n",
       "</thead>\n",
       "<tbody>\n",
       "\t<tr><td>4.1</td><td>4.8</td><td>4.4</td></tr>\n",
       "\t<tr><td>3.3</td><td>4.0</td><td>3.6</td></tr>\n",
       "\t<tr><td>2.5</td><td>3.2</td><td>2.8</td></tr>\n",
       "\t<tr><td>1.7</td><td>2.4</td><td>2.0</td></tr>\n",
       "\t<tr><td>0.9</td><td>1.6</td><td>1.2</td></tr>\n",
       "\t<tr><td>0.1</td><td>0.8</td><td>0.4</td></tr>\n",
       "</tbody>\n",
       "</table>\n"
      ],
      "text/latex": [
       "A matrix: 6 × 3 of type dbl\n",
       "\\begin{tabular}{lll}\n",
       " row4\\_col2 & row1\\_col1 & row1\\_col2\\\\\n",
       "\\hline\n",
       "\t 4.1 & 4.8 & 4.4\\\\\n",
       "\t 3.3 & 4.0 & 3.6\\\\\n",
       "\t 2.5 & 3.2 & 2.8\\\\\n",
       "\t 1.7 & 2.4 & 2.0\\\\\n",
       "\t 0.9 & 1.6 & 1.2\\\\\n",
       "\t 0.1 & 0.8 & 0.4\\\\\n",
       "\\end{tabular}\n"
      ],
      "text/markdown": [
       "\n",
       "A matrix: 6 × 3 of type dbl\n",
       "\n",
       "| row4_col2 | row1_col1 | row1_col2 |\n",
       "|---|---|---|\n",
       "| 4.1 | 4.8 | 4.4 |\n",
       "| 3.3 | 4.0 | 3.6 |\n",
       "| 2.5 | 3.2 | 2.8 |\n",
       "| 1.7 | 2.4 | 2.0 |\n",
       "| 0.9 | 1.6 | 1.2 |\n",
       "| 0.1 | 0.8 | 0.4 |\n",
       "\n"
      ],
      "text/plain": [
       "     row4_col2 row1_col1 row1_col2\n",
       "[1,] 4.1       4.8       4.4      \n",
       "[2,] 3.3       4.0       3.6      \n",
       "[3,] 2.5       3.2       2.8      \n",
       "[4,] 1.7       2.4       2.0      \n",
       "[5,] 0.9       1.6       1.2      \n",
       "[6,] 0.1       0.8       0.4      "
      ]
     },
     "metadata": {},
     "output_type": "display_data"
    }
   ],
   "source": [
    "# 查看结果（可选）\n",
    "result"
   ]
  },
  {
   "cell_type": "markdown",
   "id": "1aac05f9",
   "metadata": {},
   "source": [
    "## 第二题"
   ]
  },
  {
   "cell_type": "markdown",
   "id": "fb5c7223",
   "metadata": {},
   "source": [
    "### （1）"
   ]
  },
  {
   "cell_type": "markdown",
   "id": "1aac6bf9",
   "metadata": {},
   "source": [
    "Store the following vector of 15 values as an object in your workspace: c(6,9,7,3,6,7,9,6,3,6,6,7,1,9,1). Identify the following elements:\n",
    "\n",
    "1. Those equal to 6\n",
    "2. Those greater than or equal to 6\n",
    "3. Those less than 6 + 2\n",
    "4. Those not equal to 6"
   ]
  },
  {
   "cell_type": "code",
   "execution_count": 8,
   "id": "2d3e7533",
   "metadata": {
    "vscode": {
     "languageId": "r"
    }
   },
   "outputs": [],
   "source": [
    "vec <- c(6,9,7,3,6,7,9,6,3,6,6,7,1,9,1)"
   ]
  },
  {
   "cell_type": "code",
   "execution_count": 9,
   "id": "73fecf68",
   "metadata": {
    "vscode": {
     "languageId": "r"
    }
   },
   "outputs": [
    {
     "data": {
      "text/html": [
       "<style>\n",
       ".list-inline {list-style: none; margin:0; padding: 0}\n",
       ".list-inline>li {display: inline-block}\n",
       ".list-inline>li:not(:last-child)::after {content: \"\\00b7\"; padding: 0 .5ex}\n",
       "</style>\n",
       "<ol class=list-inline><li>1</li><li>5</li><li>8</li><li>10</li><li>11</li></ol>\n"
      ],
      "text/latex": [
       "\\begin{enumerate*}\n",
       "\\item 1\n",
       "\\item 5\n",
       "\\item 8\n",
       "\\item 10\n",
       "\\item 11\n",
       "\\end{enumerate*}\n"
      ],
      "text/markdown": [
       "1. 1\n",
       "2. 5\n",
       "3. 8\n",
       "4. 10\n",
       "5. 11\n",
       "\n",
       "\n"
      ],
      "text/plain": [
       "[1]  1  5  8 10 11"
      ]
     },
     "metadata": {},
     "output_type": "display_data"
    }
   ],
   "source": [
    "eq_6 <- vec[vec == 6]\n",
    "eq_6.index <- which(vec == 6)\n",
    "eq_6.index"
   ]
  },
  {
   "cell_type": "code",
   "execution_count": 10,
   "id": "a0680134",
   "metadata": {
    "vscode": {
     "languageId": "r"
    }
   },
   "outputs": [
    {
     "data": {
      "text/html": [
       "<style>\n",
       ".list-inline {list-style: none; margin:0; padding: 0}\n",
       ".list-inline>li {display: inline-block}\n",
       ".list-inline>li:not(:last-child)::after {content: \"\\00b7\"; padding: 0 .5ex}\n",
       "</style>\n",
       "<ol class=list-inline><li>1</li><li>2</li><li>3</li><li>5</li><li>6</li><li>7</li><li>8</li><li>10</li><li>11</li><li>12</li><li>14</li></ol>\n"
      ],
      "text/latex": [
       "\\begin{enumerate*}\n",
       "\\item 1\n",
       "\\item 2\n",
       "\\item 3\n",
       "\\item 5\n",
       "\\item 6\n",
       "\\item 7\n",
       "\\item 8\n",
       "\\item 10\n",
       "\\item 11\n",
       "\\item 12\n",
       "\\item 14\n",
       "\\end{enumerate*}\n"
      ],
      "text/markdown": [
       "1. 1\n",
       "2. 2\n",
       "3. 3\n",
       "4. 5\n",
       "5. 6\n",
       "6. 7\n",
       "7. 8\n",
       "8. 10\n",
       "9. 11\n",
       "10. 12\n",
       "11. 14\n",
       "\n",
       "\n"
      ],
      "text/plain": [
       " [1]  1  2  3  5  6  7  8 10 11 12 14"
      ]
     },
     "metadata": {},
     "output_type": "display_data"
    }
   ],
   "source": [
    "ge_6 <- vec[vec >= 6]\n",
    "ge_6.index <- which(vec >= 6)\n",
    "ge_6.index"
   ]
  },
  {
   "cell_type": "code",
   "execution_count": 11,
   "id": "bb3a1a07",
   "metadata": {
    "vscode": {
     "languageId": "r"
    }
   },
   "outputs": [
    {
     "data": {
      "text/html": [
       "<style>\n",
       ".list-inline {list-style: none; margin:0; padding: 0}\n",
       ".list-inline>li {display: inline-block}\n",
       ".list-inline>li:not(:last-child)::after {content: \"\\00b7\"; padding: 0 .5ex}\n",
       "</style>\n",
       "<ol class=list-inline><li>1</li><li>3</li><li>4</li><li>5</li><li>6</li><li>8</li><li>9</li><li>10</li><li>11</li><li>12</li><li>13</li><li>15</li></ol>\n"
      ],
      "text/latex": [
       "\\begin{enumerate*}\n",
       "\\item 1\n",
       "\\item 3\n",
       "\\item 4\n",
       "\\item 5\n",
       "\\item 6\n",
       "\\item 8\n",
       "\\item 9\n",
       "\\item 10\n",
       "\\item 11\n",
       "\\item 12\n",
       "\\item 13\n",
       "\\item 15\n",
       "\\end{enumerate*}\n"
      ],
      "text/markdown": [
       "1. 1\n",
       "2. 3\n",
       "3. 4\n",
       "4. 5\n",
       "5. 6\n",
       "6. 8\n",
       "7. 9\n",
       "8. 10\n",
       "9. 11\n",
       "10. 12\n",
       "11. 13\n",
       "12. 15\n",
       "\n",
       "\n"
      ],
      "text/plain": [
       " [1]  1  3  4  5  6  8  9 10 11 12 13 15"
      ]
     },
     "metadata": {},
     "output_type": "display_data"
    }
   ],
   "source": [
    "lt_6 <- vec[vec < 6+2]\n",
    "lt_6.index <- which(vec < 6+2)\n",
    "lt_6.index"
   ]
  },
  {
   "cell_type": "code",
   "execution_count": 12,
   "id": "e8cec069",
   "metadata": {
    "vscode": {
     "languageId": "r"
    }
   },
   "outputs": [
    {
     "data": {
      "text/html": [
       "<style>\n",
       ".list-inline {list-style: none; margin:0; padding: 0}\n",
       ".list-inline>li {display: inline-block}\n",
       ".list-inline>li:not(:last-child)::after {content: \"\\00b7\"; padding: 0 .5ex}\n",
       "</style>\n",
       "<ol class=list-inline><li>2</li><li>3</li><li>4</li><li>6</li><li>7</li><li>9</li><li>12</li><li>13</li><li>14</li><li>15</li></ol>\n"
      ],
      "text/latex": [
       "\\begin{enumerate*}\n",
       "\\item 2\n",
       "\\item 3\n",
       "\\item 4\n",
       "\\item 6\n",
       "\\item 7\n",
       "\\item 9\n",
       "\\item 12\n",
       "\\item 13\n",
       "\\item 14\n",
       "\\item 15\n",
       "\\end{enumerate*}\n"
      ],
      "text/markdown": [
       "1. 2\n",
       "2. 3\n",
       "3. 4\n",
       "4. 6\n",
       "5. 7\n",
       "6. 9\n",
       "7. 12\n",
       "8. 13\n",
       "9. 14\n",
       "10. 15\n",
       "\n",
       "\n"
      ],
      "text/plain": [
       " [1]  2  3  4  6  7  9 12 13 14 15"
      ]
     },
     "metadata": {},
     "output_type": "display_data"
    }
   ],
   "source": [
    "ne_6 <- vec[vec != 6]\n",
    "ne_6.index <- which(vec != 6)\n",
    "ne_6.index"
   ]
  },
  {
   "cell_type": "markdown",
   "id": "d655a2e3",
   "metadata": {},
   "source": [
    "### （2）"
   ]
  },
  {
   "cell_type": "markdown",
   "id": "269c2ac4",
   "metadata": {},
   "source": [
    " Create a new vector from the one used in 3(a) by deleting its first three elements. With this new vector, fill a 2 * 2 * 3 array. Examine the array for the following entries:\n",
    "\n",
    "1. Those less than or equal to 6 divided by 2, plus 4\n",
    "2. Those less than or equal to 6 divided by 2, plus 4, after increasing every element in the array by 2"
   ]
  },
  {
   "cell_type": "code",
   "execution_count": 13,
   "id": "e09ec562",
   "metadata": {
    "vscode": {
     "languageId": "r"
    }
   },
   "outputs": [
    {
     "data": {
      "text/html": [
       "<style>\n",
       ".list-inline {list-style: none; margin:0; padding: 0}\n",
       ".list-inline>li {display: inline-block}\n",
       ".list-inline>li:not(:last-child)::after {content: \"\\00b7\"; padding: 0 .5ex}\n",
       "</style>\n",
       "<ol class=list-inline><li>3</li><li>6</li><li>7</li><li>9</li><li>6</li><li>3</li><li>6</li><li>6</li><li>7</li><li>1</li><li>9</li><li>1</li></ol>\n"
      ],
      "text/latex": [
       "\\begin{enumerate*}\n",
       "\\item 3\n",
       "\\item 6\n",
       "\\item 7\n",
       "\\item 9\n",
       "\\item 6\n",
       "\\item 3\n",
       "\\item 6\n",
       "\\item 6\n",
       "\\item 7\n",
       "\\item 1\n",
       "\\item 9\n",
       "\\item 1\n",
       "\\end{enumerate*}\n"
      ],
      "text/markdown": [
       "1. 3\n",
       "2. 6\n",
       "3. 7\n",
       "4. 9\n",
       "5. 6\n",
       "6. 3\n",
       "7. 6\n",
       "8. 6\n",
       "9. 7\n",
       "10. 1\n",
       "11. 9\n",
       "12. 1\n",
       "\n",
       "\n"
      ],
      "text/plain": [
       " [1] 3 6 7 9 6 3 6 6 7 1 9 1"
      ]
     },
     "metadata": {},
     "output_type": "display_data"
    }
   ],
   "source": [
    "new_vec <- vec[-c(1, 2, 3)]  # 或 new_vec <- vec[4:15]\n",
    "new_vec"
   ]
  },
  {
   "cell_type": "markdown",
   "id": "7f757702",
   "metadata": {},
   "source": [
    "我们改变维度，将向量变成矩阵"
   ]
  },
  {
   "cell_type": "code",
   "execution_count": 14,
   "id": "85e60926",
   "metadata": {
    "vscode": {
     "languageId": "r"
    }
   },
   "outputs": [
    {
     "name": "stdout",
     "output_type": "stream",
     "text": [
      ", , 1\n",
      "\n",
      "     [,1] [,2]\n",
      "[1,]    3    7\n",
      "[2,]    6    9\n",
      "\n",
      ", , 2\n",
      "\n",
      "     [,1] [,2]\n",
      "[1,]    6    6\n",
      "[2,]    3    6\n",
      "\n",
      ", , 3\n",
      "\n",
      "     [,1] [,2]\n",
      "[1,]    7    9\n",
      "[2,]    1    1\n",
      "\n"
     ]
    }
   ],
   "source": [
    "arr <- array(new_vec, dim = c(2, 2, 3))\n",
    "print(arr)"
   ]
  },
  {
   "cell_type": "code",
   "execution_count": 15,
   "id": "828575b0",
   "metadata": {
    "vscode": {
     "languageId": "r"
    }
   },
   "outputs": [
    {
     "data": {
      "text/html": [
       "<style>\n",
       ".list-inline {list-style: none; margin:0; padding: 0}\n",
       ".list-inline>li {display: inline-block}\n",
       ".list-inline>li:not(:last-child)::after {content: \"\\00b7\"; padding: 0 .5ex}\n",
       "</style>\n",
       "<ol class=list-inline><li>3</li><li>6</li><li>7</li><li>6</li><li>3</li><li>6</li><li>6</li><li>7</li><li>1</li><li>1</li></ol>\n"
      ],
      "text/latex": [
       "\\begin{enumerate*}\n",
       "\\item 3\n",
       "\\item 6\n",
       "\\item 7\n",
       "\\item 6\n",
       "\\item 3\n",
       "\\item 6\n",
       "\\item 6\n",
       "\\item 7\n",
       "\\item 1\n",
       "\\item 1\n",
       "\\end{enumerate*}\n"
      ],
      "text/markdown": [
       "1. 3\n",
       "2. 6\n",
       "3. 7\n",
       "4. 6\n",
       "5. 3\n",
       "6. 6\n",
       "7. 6\n",
       "8. 7\n",
       "9. 1\n",
       "10. 1\n",
       "\n",
       "\n"
      ],
      "text/plain": [
       " [1] 3 6 7 6 3 6 6 7 1 1"
      ]
     },
     "metadata": {},
     "output_type": "display_data"
    },
    {
     "data": {
      "text/html": [
       "<table class=\"dataframe\">\n",
       "<caption>A matrix: 10 × 3 of type int</caption>\n",
       "<thead>\n",
       "\t<tr><th scope=col>dim1</th><th scope=col>dim2</th><th scope=col>dim3</th></tr>\n",
       "</thead>\n",
       "<tbody>\n",
       "\t<tr><td>1</td><td>1</td><td>1</td></tr>\n",
       "\t<tr><td>2</td><td>1</td><td>1</td></tr>\n",
       "\t<tr><td>1</td><td>2</td><td>1</td></tr>\n",
       "\t<tr><td>1</td><td>1</td><td>2</td></tr>\n",
       "\t<tr><td>2</td><td>1</td><td>2</td></tr>\n",
       "\t<tr><td>1</td><td>2</td><td>2</td></tr>\n",
       "\t<tr><td>2</td><td>2</td><td>2</td></tr>\n",
       "\t<tr><td>1</td><td>1</td><td>3</td></tr>\n",
       "\t<tr><td>2</td><td>1</td><td>3</td></tr>\n",
       "\t<tr><td>2</td><td>2</td><td>3</td></tr>\n",
       "</tbody>\n",
       "</table>\n"
      ],
      "text/latex": [
       "A matrix: 10 × 3 of type int\n",
       "\\begin{tabular}{lll}\n",
       " dim1 & dim2 & dim3\\\\\n",
       "\\hline\n",
       "\t 1 & 1 & 1\\\\\n",
       "\t 2 & 1 & 1\\\\\n",
       "\t 1 & 2 & 1\\\\\n",
       "\t 1 & 1 & 2\\\\\n",
       "\t 2 & 1 & 2\\\\\n",
       "\t 1 & 2 & 2\\\\\n",
       "\t 2 & 2 & 2\\\\\n",
       "\t 1 & 1 & 3\\\\\n",
       "\t 2 & 1 & 3\\\\\n",
       "\t 2 & 2 & 3\\\\\n",
       "\\end{tabular}\n"
      ],
      "text/markdown": [
       "\n",
       "A matrix: 10 × 3 of type int\n",
       "\n",
       "| dim1 | dim2 | dim3 |\n",
       "|---|---|---|\n",
       "| 1 | 1 | 1 |\n",
       "| 2 | 1 | 1 |\n",
       "| 1 | 2 | 1 |\n",
       "| 1 | 1 | 2 |\n",
       "| 2 | 1 | 2 |\n",
       "| 1 | 2 | 2 |\n",
       "| 2 | 2 | 2 |\n",
       "| 1 | 1 | 3 |\n",
       "| 2 | 1 | 3 |\n",
       "| 2 | 2 | 3 |\n",
       "\n"
      ],
      "text/plain": [
       "      dim1 dim2 dim3\n",
       " [1,] 1    1    1   \n",
       " [2,] 2    1    1   \n",
       " [3,] 1    2    1   \n",
       " [4,] 1    1    2   \n",
       " [5,] 2    1    2   \n",
       " [6,] 1    2    2   \n",
       " [7,] 2    2    2   \n",
       " [8,] 1    1    3   \n",
       " [9,] 2    1    3   \n",
       "[10,] 2    2    3   "
      ]
     },
     "metadata": {},
     "output_type": "display_data"
    }
   ],
   "source": [
    "# i. 筛选 <= 6/2 + 4 的元素\n",
    "logical_array1 <- arr <= (6 / 2 + 4)\n",
    "arr[logical_array1]  # 筛选出的元素\n",
    "logical_array1.index <- which(logical_array1, arr.ind = TRUE)  # 筛选出的元素的索引\n",
    "logical_array1.index  # 筛选出的元素的索引"
   ]
  },
  {
   "cell_type": "code",
   "execution_count": 16,
   "id": "defde9e7",
   "metadata": {
    "vscode": {
     "languageId": "r"
    }
   },
   "outputs": [
    {
     "data": {
      "text/html": [
       "<style>\n",
       ".list-inline {list-style: none; margin:0; padding: 0}\n",
       ".list-inline>li {display: inline-block}\n",
       ".list-inline>li:not(:last-child)::after {content: \"\\00b7\"; padding: 0 .5ex}\n",
       "</style>\n",
       "<ol class=list-inline><li>5</li><li>8</li><li>9</li><li>11</li><li>8</li><li>5</li><li>8</li><li>8</li><li>9</li><li>3</li><li>11</li><li>3</li></ol>\n"
      ],
      "text/latex": [
       "\\begin{enumerate*}\n",
       "\\item 5\n",
       "\\item 8\n",
       "\\item 9\n",
       "\\item 11\n",
       "\\item 8\n",
       "\\item 5\n",
       "\\item 8\n",
       "\\item 8\n",
       "\\item 9\n",
       "\\item 3\n",
       "\\item 11\n",
       "\\item 3\n",
       "\\end{enumerate*}\n"
      ],
      "text/markdown": [
       "1. 5\n",
       "2. 8\n",
       "3. 9\n",
       "4. 11\n",
       "5. 8\n",
       "6. 5\n",
       "7. 8\n",
       "8. 8\n",
       "9. 9\n",
       "10. 3\n",
       "11. 11\n",
       "12. 3\n",
       "\n",
       "\n"
      ],
      "text/plain": [
       ", , 1\n",
       "\n",
       "     [,1] [,2]\n",
       "[1,]    5    9\n",
       "[2,]    8   11\n",
       "\n",
       ", , 2\n",
       "\n",
       "     [,1] [,2]\n",
       "[1,]    8    8\n",
       "[2,]    5    8\n",
       "\n",
       ", , 3\n",
       "\n",
       "     [,1] [,2]\n",
       "[1,]    9   11\n",
       "[2,]    3    3\n"
      ]
     },
     "metadata": {},
     "output_type": "display_data"
    },
    {
     "name": "stdout",
     "output_type": "stream",
     "text": [
      "[1] 5 5 3 3\n",
      "     dim1 dim2 dim3\n",
      "[1,]    1    1    1\n",
      "[2,]    2    1    2\n",
      "[3,]    2    1    3\n",
      "[4,]    2    2    3\n"
     ]
    }
   ],
   "source": [
    "# ii. 先将数组每个元素 +2，再筛选 <= 6/2 + 4 的元素\n",
    "arr_plus2 <- arr + 2\n",
    "arr_plus2  # 打印加2后的数组\n",
    "new_array2 <- arr_plus2[arr_plus2 <= (6 / 2 + 4)]\n",
    "print(new_array2)  # 打印筛选出的元素\n",
    "new_array2.index <- which(arr_plus2 <= (6 / 2 + 4), arr.ind = TRUE)  # 筛选出的元素的索引\n",
    "print(new_array2.index)  # 打印筛选出的元素的索引"
   ]
  },
  {
   "cell_type": "code",
   "execution_count": 17,
   "id": "76cc79d4",
   "metadata": {
    "vscode": {
     "languageId": "r"
    }
   },
   "outputs": [
    {
     "name": "stdout",
     "output_type": "stream",
     "text": [
      ", , 1\n",
      "\n",
      "      [,1]  [,2]\n",
      "[1,]  TRUE FALSE\n",
      "[2,] FALSE FALSE\n",
      "\n",
      ", , 2\n",
      "\n",
      "      [,1]  [,2]\n",
      "[1,] FALSE FALSE\n",
      "[2,]  TRUE FALSE\n",
      "\n",
      ", , 3\n",
      "\n",
      "      [,1]  [,2]\n",
      "[1,] FALSE FALSE\n",
      "[2,]  TRUE  TRUE\n",
      "\n"
     ]
    }
   ],
   "source": [
    "logical_array2 <- arr_plus2 <= (6 / 2 + 4)  # 逻辑数组\n",
    "print(logical_array2)  # 打印逻辑数组"
   ]
  },
  {
   "cell_type": "markdown",
   "id": "9cd046ec",
   "metadata": {},
   "source": [
    "### （3）"
   ]
  },
  {
   "cell_type": "markdown",
   "id": "98fb26c9",
   "metadata": {},
   "source": [
    "Check whether any of the values of the logical arrays created in 3(b) are TRUE. If they are, check whether they are all TRUE."
   ]
  },
  {
   "cell_type": "code",
   "execution_count": 18,
   "id": "c1d7fb65",
   "metadata": {
    "vscode": {
     "languageId": "r"
    }
   },
   "outputs": [
    {
     "name": "stdout",
     "output_type": "stream",
     "text": [
      "[1] TRUE\n",
      "[1] FALSE\n"
     ]
    }
   ],
   "source": [
    "# 检查 logical_array1 中是否有 TRUE\n",
    "any_true1 <- any(logical_array1)\n",
    "all_true1 <- all(logical_array1)\n",
    "\n",
    "print(any_true1)  # 打印是否有 TRUE\n",
    "print(all_true1)  # 打印是否全部为 TRUE"
   ]
  },
  {
   "cell_type": "code",
   "execution_count": 19,
   "id": "e0ab6bdf",
   "metadata": {
    "vscode": {
     "languageId": "r"
    }
   },
   "outputs": [
    {
     "name": "stdout",
     "output_type": "stream",
     "text": [
      "[1] TRUE\n",
      "[1] FALSE\n"
     ]
    }
   ],
   "source": [
    "# 检查 logical_array2 中是否有 TRUE\n",
    "any_true2 <- any(logical_array2)\n",
    "all_true2 <- all(logical_array2)\n",
    "\n",
    "print(any_true2)  # 打印是否有 TRUE\n",
    "print(all_true2)  # 打印是否所有元素都是 TRUE"
   ]
  },
  {
   "cell_type": "markdown",
   "id": "14454adc",
   "metadata": {},
   "source": [
    "## 第三题"
   ]
  },
  {
   "cell_type": "markdown",
   "id": "5162710e",
   "metadata": {},
   "source": [
    "### （1）"
   ]
  },
  {
   "cell_type": "markdown",
   "id": "bc919d06",
   "metadata": {},
   "source": [
    "Store this vector of 10 values: foo <- c(7,5,6,1,2,10,8,3,8,2). Then, do the following:\n",
    "\n",
    "1. Extract the elements greater than or equal to 5, storing the result as bar.\n",
    "2. Display the vector containing those elements from foo that remain after omitting all elements that are greater than or equal to 5."
   ]
  },
  {
   "cell_type": "markdown",
   "id": "6520dbac",
   "metadata": {
    "vscode": {
     "languageId": "r"
    }
   },
   "source": [
    "对于第一问，首先定义向量 foo："
   ]
  },
  {
   "cell_type": "code",
   "execution_count": 20,
   "id": "98885ba0",
   "metadata": {
    "vscode": {
     "languageId": "r"
    }
   },
   "outputs": [
    {
     "data": {
      "text/html": [
       "<style>\n",
       ".list-inline {list-style: none; margin:0; padding: 0}\n",
       ".list-inline>li {display: inline-block}\n",
       ".list-inline>li:not(:last-child)::after {content: \"\\00b7\"; padding: 0 .5ex}\n",
       "</style>\n",
       "<ol class=list-inline><li>7</li><li>5</li><li>6</li><li>1</li><li>2</li><li>10</li><li>8</li><li>3</li><li>8</li><li>2</li></ol>\n"
      ],
      "text/latex": [
       "\\begin{enumerate*}\n",
       "\\item 7\n",
       "\\item 5\n",
       "\\item 6\n",
       "\\item 1\n",
       "\\item 2\n",
       "\\item 10\n",
       "\\item 8\n",
       "\\item 3\n",
       "\\item 8\n",
       "\\item 2\n",
       "\\end{enumerate*}\n"
      ],
      "text/markdown": [
       "1. 7\n",
       "2. 5\n",
       "3. 6\n",
       "4. 1\n",
       "5. 2\n",
       "6. 10\n",
       "7. 8\n",
       "8. 3\n",
       "9. 8\n",
       "10. 2\n",
       "\n",
       "\n"
      ],
      "text/plain": [
       " [1]  7  5  6  1  2 10  8  3  8  2"
      ]
     },
     "metadata": {},
     "output_type": "display_data"
    }
   ],
   "source": [
    "foo <- c(7,5,6,1,2,10,8,3,8,2)\n",
    "foo"
   ]
  },
  {
   "cell_type": "markdown",
   "id": "76852c41",
   "metadata": {
    "vscode": {
     "languageId": "r"
    }
   },
   "source": [
    "(i) 提取 foo 中 ≥5 的元素，赋值给 bar"
   ]
  },
  {
   "cell_type": "code",
   "execution_count": 21,
   "id": "3a9d523c",
   "metadata": {
    "vscode": {
     "languageId": "r"
    }
   },
   "outputs": [
    {
     "data": {
      "text/html": [
       "<style>\n",
       ".list-inline {list-style: none; margin:0; padding: 0}\n",
       ".list-inline>li {display: inline-block}\n",
       ".list-inline>li:not(:last-child)::after {content: \"\\00b7\"; padding: 0 .5ex}\n",
       "</style>\n",
       "<ol class=list-inline><li>7</li><li>5</li><li>6</li><li>10</li><li>8</li><li>8</li></ol>\n"
      ],
      "text/latex": [
       "\\begin{enumerate*}\n",
       "\\item 7\n",
       "\\item 5\n",
       "\\item 6\n",
       "\\item 10\n",
       "\\item 8\n",
       "\\item 8\n",
       "\\end{enumerate*}\n"
      ],
      "text/markdown": [
       "1. 7\n",
       "2. 5\n",
       "3. 6\n",
       "4. 10\n",
       "5. 8\n",
       "6. 8\n",
       "\n",
       "\n"
      ],
      "text/plain": [
       "[1]  7  5  6 10  8  8"
      ]
     },
     "metadata": {},
     "output_type": "display_data"
    },
    {
     "data": {
      "text/html": [
       "<style>\n",
       ".list-inline {list-style: none; margin:0; padding: 0}\n",
       ".list-inline>li {display: inline-block}\n",
       ".list-inline>li:not(:last-child)::after {content: \"\\00b7\"; padding: 0 .5ex}\n",
       "</style>\n",
       "<ol class=list-inline><li>1</li><li>2</li><li>3</li><li>6</li><li>7</li><li>9</li></ol>\n"
      ],
      "text/latex": [
       "\\begin{enumerate*}\n",
       "\\item 1\n",
       "\\item 2\n",
       "\\item 3\n",
       "\\item 6\n",
       "\\item 7\n",
       "\\item 9\n",
       "\\end{enumerate*}\n"
      ],
      "text/markdown": [
       "1. 1\n",
       "2. 2\n",
       "3. 3\n",
       "4. 6\n",
       "5. 7\n",
       "6. 9\n",
       "\n",
       "\n"
      ],
      "text/plain": [
       "[1] 1 2 3 6 7 9"
      ]
     },
     "metadata": {},
     "output_type": "display_data"
    }
   ],
   "source": [
    "bar <- foo[ foo >= 5 ]\n",
    "bar\n",
    "bar.index <- which(foo >= 5)\n",
    "bar.index"
   ]
  },
  {
   "cell_type": "markdown",
   "id": "1d5b659b",
   "metadata": {
    "vscode": {
     "languageId": "r"
    }
   },
   "source": [
    "(ii) 提取 foo 中 <5 的元素"
   ]
  },
  {
   "cell_type": "code",
   "execution_count": 22,
   "id": "d7beb412",
   "metadata": {
    "vscode": {
     "languageId": "r"
    }
   },
   "outputs": [
    {
     "data": {
      "text/html": [
       "<style>\n",
       ".list-inline {list-style: none; margin:0; padding: 0}\n",
       ".list-inline>li {display: inline-block}\n",
       ".list-inline>li:not(:last-child)::after {content: \"\\00b7\"; padding: 0 .5ex}\n",
       "</style>\n",
       "<ol class=list-inline><li>1</li><li>2</li><li>3</li><li>2</li></ol>\n"
      ],
      "text/latex": [
       "\\begin{enumerate*}\n",
       "\\item 1\n",
       "\\item 2\n",
       "\\item 3\n",
       "\\item 2\n",
       "\\end{enumerate*}\n"
      ],
      "text/markdown": [
       "1. 1\n",
       "2. 2\n",
       "3. 3\n",
       "4. 2\n",
       "\n",
       "\n"
      ],
      "text/plain": [
       "[1] 1 2 3 2"
      ]
     },
     "metadata": {},
     "output_type": "display_data"
    },
    {
     "data": {
      "text/html": [
       "<style>\n",
       ".list-inline {list-style: none; margin:0; padding: 0}\n",
       ".list-inline>li {display: inline-block}\n",
       ".list-inline>li:not(:last-child)::after {content: \"\\00b7\"; padding: 0 .5ex}\n",
       "</style>\n",
       "<ol class=list-inline><li>4</li><li>5</li><li>8</li><li>10</li></ol>\n"
      ],
      "text/latex": [
       "\\begin{enumerate*}\n",
       "\\item 4\n",
       "\\item 5\n",
       "\\item 8\n",
       "\\item 10\n",
       "\\end{enumerate*}\n"
      ],
      "text/markdown": [
       "1. 4\n",
       "2. 5\n",
       "3. 8\n",
       "4. 10\n",
       "\n",
       "\n"
      ],
      "text/plain": [
       "[1]  4  5  8 10"
      ]
     },
     "metadata": {},
     "output_type": "display_data"
    }
   ],
   "source": [
    "foo_lt5 <- foo[ foo < 5 ]\n",
    "foo_lt5\n",
    "foo_lt5.index <- which(foo < 5)\n",
    "foo_lt5.index"
   ]
  },
  {
   "cell_type": "markdown",
   "id": "7f863a1a",
   "metadata": {},
   "source": [
    "### （2）"
   ]
  },
  {
   "cell_type": "markdown",
   "id": "ebd6af40",
   "metadata": {},
   "source": [
    "Use bar from 4(a)(i) to construct a 2*3 matrix called baz, filling in a row-wise fashion. Then, do the following:\n",
    "\n",
    "1. Replace any elements that are equal to 8 with the squared value of the element in row 1, column 2 of baz itself.\n",
    "2. Confirm that all values in baz are now less than or equal to 25 and greater than 4."
   ]
  },
  {
   "cell_type": "markdown",
   "id": "b7427c07",
   "metadata": {
    "vscode": {
     "languageId": "r"
    }
   },
   "source": [
    "用 bar 构造 2×3 的矩阵 baz（按行填充）"
   ]
  },
  {
   "cell_type": "code",
   "execution_count": 23,
   "id": "4a9d19fa",
   "metadata": {
    "vscode": {
     "languageId": "r"
    }
   },
   "outputs": [
    {
     "data": {
      "text/html": [
       "<table class=\"dataframe\">\n",
       "<caption>A matrix: 2 × 3 of type dbl</caption>\n",
       "<tbody>\n",
       "\t<tr><td> 7</td><td>5</td><td>6</td></tr>\n",
       "\t<tr><td>10</td><td>8</td><td>8</td></tr>\n",
       "</tbody>\n",
       "</table>\n"
      ],
      "text/latex": [
       "A matrix: 2 × 3 of type dbl\n",
       "\\begin{tabular}{lll}\n",
       "\t  7 & 5 & 6\\\\\n",
       "\t 10 & 8 & 8\\\\\n",
       "\\end{tabular}\n"
      ],
      "text/markdown": [
       "\n",
       "A matrix: 2 × 3 of type dbl\n",
       "\n",
       "|  7 | 5 | 6 |\n",
       "| 10 | 8 | 8 |\n",
       "\n"
      ],
      "text/plain": [
       "     [,1] [,2] [,3]\n",
       "[1,]  7   5    6   \n",
       "[2,] 10   8    8   "
      ]
     },
     "metadata": {},
     "output_type": "display_data"
    }
   ],
   "source": [
    "baz <- matrix(bar, nrow = 2, ncol = 3, byrow = TRUE)\n",
    "baz\n"
   ]
  },
  {
   "cell_type": "markdown",
   "id": "9a31a5a4",
   "metadata": {
    "vscode": {
     "languageId": "r"
    }
   },
   "source": [
    "(i) 将所有等于 8 的元素替换为 baz[1,2]^2（即 5^2 = 25）"
   ]
  },
  {
   "cell_type": "code",
   "execution_count": 24,
   "id": "f550293d",
   "metadata": {
    "vscode": {
     "languageId": "r"
    }
   },
   "outputs": [
    {
     "data": {
      "text/html": [
       "<table class=\"dataframe\">\n",
       "<caption>A matrix: 2 × 3 of type dbl</caption>\n",
       "<tbody>\n",
       "\t<tr><td> 7</td><td> 5</td><td> 6</td></tr>\n",
       "\t<tr><td>10</td><td>25</td><td>25</td></tr>\n",
       "</tbody>\n",
       "</table>\n"
      ],
      "text/latex": [
       "A matrix: 2 × 3 of type dbl\n",
       "\\begin{tabular}{lll}\n",
       "\t  7 &  5 &  6\\\\\n",
       "\t 10 & 25 & 25\\\\\n",
       "\\end{tabular}\n"
      ],
      "text/markdown": [
       "\n",
       "A matrix: 2 × 3 of type dbl\n",
       "\n",
       "|  7 |  5 |  6 |\n",
       "| 10 | 25 | 25 |\n",
       "\n"
      ],
      "text/plain": [
       "     [,1] [,2] [,3]\n",
       "[1,]  7    5    6  \n",
       "[2,] 10   25   25  "
      ]
     },
     "metadata": {},
     "output_type": "display_data"
    }
   ],
   "source": [
    "baz[ baz == 8 ] <- baz[1,2]^2\n",
    "baz"
   ]
  },
  {
   "cell_type": "markdown",
   "id": "12ab85ff",
   "metadata": {
    "vscode": {
     "languageId": "r"
    }
   },
   "source": [
    "(ii) 检查 baz 中是否所有值都 ≤25 且 >4"
   ]
  },
  {
   "cell_type": "code",
   "execution_count": 25,
   "id": "75083131",
   "metadata": {
    "vscode": {
     "languageId": "r"
    }
   },
   "outputs": [
    {
     "data": {
      "text/html": [
       "TRUE"
      ],
      "text/latex": [
       "TRUE"
      ],
      "text/markdown": [
       "TRUE"
      ],
      "text/plain": [
       "[1] TRUE"
      ]
     },
     "metadata": {},
     "output_type": "display_data"
    }
   ],
   "source": [
    "all(baz <= 25 & baz > 4)"
   ]
  },
  {
   "cell_type": "code",
   "execution_count": null,
   "id": "acbad50b",
   "metadata": {
    "vscode": {
     "languageId": "r"
    }
   },
   "outputs": [],
   "source": []
  }
 ],
 "metadata": {
  "kernelspec": {
   "display_name": "R 4.4",
   "language": "R",
   "name": "ir44"
  },
  "language_info": {
   "codemirror_mode": "r",
   "file_extension": ".r",
   "mimetype": "text/x-r-source",
   "name": "R",
   "pygments_lexer": "r",
   "version": "4.4.2"
  }
 },
 "nbformat": 4,
 "nbformat_minor": 5
}
