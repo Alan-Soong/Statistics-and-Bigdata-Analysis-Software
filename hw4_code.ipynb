{
 "cells": [
  {
   "cell_type": "markdown",
   "metadata": {},
   "source": [
    "# 统计与大数据分析软件第四次作业"
   ]
  },
  {
   "cell_type": "markdown",
   "metadata": {},
   "source": [
    "## 第一题"
   ]
  },
  {
   "cell_type": "markdown",
   "metadata": {},
   "source": [
    "冰淇淋小店：冰淇淋小店是一种特殊的餐馆。\n",
    "\n",
    "编写一个名为`IceCreamStand`的类，让它继承你为完成第三次作业练习2或练习5而编写的`Restaurant`类。\n",
    "\n",
    "这两个版本的`Restaurant`类都可以，挑选你更喜欢的那个即可。\n",
    "\n",
    "添加一个名为`flavors`的属性，用于存储一个由各种口味的冰淇淋组成的列表。\n",
    "\n",
    "编写一个显示这些冰淇淋的方法。创建一个`IceCreamStand`实例，并调用这个方法。\n"
   ]
  },
  {
   "cell_type": "code",
   "execution_count": 4,
   "metadata": {},
   "outputs": [],
   "source": [
    "# 我们先提前导入之前的类（不知道如何两个notebook文件如何互相导入）\n",
    "class Restaurant:\n",
    "    # 初始化属性：名称和类型\n",
    "    def __init__(self, restaurant_name, cuisine_type):\n",
    "        self.restaurant_name = restaurant_name\n",
    "        self.cuisine_type = cuisine_type\n",
    "        self.number_served = 0\n",
    "\n",
    "    # 定义方法：描述餐馆\n",
    "    def describe_restaurant(self):\n",
    "        print(f\"{self.restaurant_name} serves wonderful {self.cuisine_type}.\")\n",
    "\n",
    "    # 定义方法：餐馆营业中\n",
    "    def open_restaurant(self):\n",
    "        print(f\"{self.restaurant_name} is open. Come on in!\")\n",
    "\n",
    "    # 添加方法：设置就餐人数\n",
    "    def set_number_served(self, number):\n",
    "        self.number_served = number\n",
    "        print(\n",
    "            f\"In {self.restaurant_name}, {self.number_served} people have been served.\"\n",
    "        )\n",
    "\n",
    "    # 添加方法：增加就餐人数\n",
    "    def increment_number_served(self, number):\n",
    "        self.number_served += number\n",
    "        print(f\"Now {self.number_served} people have been served.\")"
   ]
  },
  {
   "cell_type": "code",
   "execution_count": 5,
   "metadata": {},
   "outputs": [],
   "source": [
    "# 创建子类，实现冰淇凌店\n",
    "class IceCreamStand(Restaurant):\n",
    "    def __init__(self, restaurant_name, cuisine_type):\n",
    "        super().__init__(restaurant_name, cuisine_type)\n",
    "        self.flavors = []\n",
    "\n",
    "    def add_flavor(self, flavor):\n",
    "        self.flavors.append(flavor)\n",
    "\n",
    "    def show_flavors(self):\n",
    "        print(\"Available flavors:\")\n",
    "        for flavor in self.flavors:\n",
    "            print(\"- \" + flavor)"
   ]
  },
  {
   "cell_type": "code",
   "execution_count": 6,
   "metadata": {},
   "outputs": [
    {
     "name": "stdout",
     "output_type": "stream",
     "text": [
      "Mixuebingcheng serves wonderful ice cream.\n",
      "Available flavors:\n",
      "- vanilla\n",
      "- chocolate\n",
      "- strawberry\n"
     ]
    }
   ],
   "source": [
    "Mixuebingcheng = IceCreamStand(\"Mixuebingcheng\", \"ice cream\")\n",
    "Mixuebingcheng.describe_restaurant()\n",
    "Mixuebingcheng.add_flavor(\"vanilla\")\n",
    "Mixuebingcheng.add_flavor(\"chocolate\")\n",
    "Mixuebingcheng.add_flavor(\"strawberry\")\n",
    "Mixuebingcheng.show_flavors()"
   ]
  },
  {
   "cell_type": "markdown",
   "metadata": {},
   "source": [
    "## 第二题"
   ]
  },
  {
   "cell_type": "markdown",
   "metadata": {},
   "source": [
    "管理员：管理员是一种特殊的用户。\n",
    "\n",
    "编写一个名为`Admin`的类，让它继承你为完成第三次作业中练习4或练习6而编写的`User`类。\n",
    "\n",
    "添加一个名为`privileges`的属性，用于存储一个由字符串（如\"`can add post`\"、\"`can delete post`\"、\"`can ban user`\"等）组成的列表。\n",
    "\n",
    "编写一个名为`show_privileges()`的方法，它显示管理员的权限。创建一个`Admin`实例，并调用这个方法。\n"
   ]
  },
  {
   "cell_type": "code",
   "execution_count": 7,
   "metadata": {},
   "outputs": [],
   "source": [
    "# 我们先提前导入之前的类\n",
    "class User:\n",
    "    def __init__(self, first_name, last_name, gender, age, nationality):\n",
    "        self.first_name = first_name\n",
    "        self.last_name = last_name\n",
    "        self.gender = gender\n",
    "        self.age = age\n",
    "        self.nationality = nationality\n",
    "        self.login_attempts = 0\n",
    "\n",
    "    def describe_user(self):\n",
    "        print(\n",
    "            f\"The person's name: {self.first_name} {self.last_name}, gender: {self.gender}, age: {self.age}, nationality: {self.nationality}.\"\n",
    "        )\n",
    "\n",
    "    def greet_user(self):\n",
    "        print(f\"Hello, {self.first_name} {self.last_name}! Nice to meet you!\")\n",
    "\n",
    "    # 定义方法：注册次数增加\n",
    "    def increment_login_attempts(self):\n",
    "        self.login_attempts += 1\n",
    "\n",
    "    # 定义方法：重置登录次数\n",
    "    def reset_login_attempts(self):\n",
    "        self.login_attempts = 0\n",
    "\n",
    "    # 定义方法：显示登录次数\n",
    "    def show_login_attempts(self):\n",
    "        print(f\"The person has logined the number of {self.login_attempts}. \")"
   ]
  },
  {
   "cell_type": "code",
   "execution_count": 8,
   "metadata": {},
   "outputs": [],
   "source": [
    "# 子类\n",
    "class User_add(User):\n",
    "    def __init__(self, first_name, last_name, age, sex, nationality):\n",
    "        super().__init__(first_name, last_name, age, sex, nationality)\n",
    "        self.privileges = []\n",
    "\n",
    "    # 存储功能\n",
    "    def add_privileges(self, privilege):\n",
    "        self.privileges.append(privilege)\n",
    "\n",
    "    # 显示功能\n",
    "    def show_privileges(self):\n",
    "        print(f\"The person has the privileges of {self.privileges}.\")"
   ]
  },
  {
   "cell_type": "code",
   "execution_count": 9,
   "metadata": {},
   "outputs": [
    {
     "name": "stdout",
     "output_type": "stream",
     "text": [
      "The person has the privileges of ['can add post', 'can delete post', 'can ban user'].\n"
     ]
    }
   ],
   "source": [
    "Mike = User_add(\"Mike\", \"Jordan\", \"18\", \"male\", \"American\")\n",
    "Mike.add_privileges(\"can add post\")\n",
    "Mike.add_privileges(\"can delete post\")\n",
    "Mike.add_privileges(\"can ban user\")\n",
    "Mike.show_privileges()"
   ]
  },
  {
   "cell_type": "markdown",
   "metadata": {},
   "source": [
    "## 第三题"
   ]
  },
  {
   "cell_type": "markdown",
   "metadata": {},
   "source": [
    "权限：编写一个名为`Privileges`的类，它只有一个属性——`privileges`，其中存储了练习2所说的字符串列表。\n",
    "\n",
    "将方法`show_privileges()`移到这个类中。在`Admin`类中，将一个`Privileges`实例用作其属性。\n",
    "\n",
    "创建一个`Admin`实例，并使用方法`show_privileges()`来显示其权限。\n"
   ]
  },
  {
   "cell_type": "code",
   "execution_count": 10,
   "metadata": {},
   "outputs": [],
   "source": [
    "class Privileges:\n",
    "    def __init__(self):\n",
    "        self.privileges = []\n",
    "\n",
    "    def add_privileges(self, privilege):\n",
    "        self.privileges.append(privilege)\n",
    "\n",
    "    def show_privileges(self):\n",
    "        print(f\"The person has the privileges of {self.privileges}.\")"
   ]
  },
  {
   "cell_type": "code",
   "execution_count": 11,
   "metadata": {},
   "outputs": [],
   "source": [
    "class Admin(User):\n",
    "    def __init__(self, first_name, last_name, age, gender, nationality):\n",
    "        super().__init__(first_name, last_name, age, gender, nationality)\n",
    "        self.privileges = Privileges()"
   ]
  },
  {
   "cell_type": "code",
   "execution_count": 12,
   "metadata": {},
   "outputs": [
    {
     "name": "stdout",
     "output_type": "stream",
     "text": [
      "The person's name: Jack Ma, gender: male, age: 20, nationality: Chinese.\n",
      "The person has the privileges of ['can add post', 'can delete post', 'can ban user'].\n"
     ]
    }
   ],
   "source": [
    "Jack = Admin(\"Jack\", \"Ma\", \"male\", 20, \"Chinese\")\n",
    "Jack.describe_user()\n",
    "Jack.privileges.add_privileges(\"can add post\")\n",
    "Jack.privileges.add_privileges(\"can delete post\")\n",
    "Jack.privileges.add_privileges(\"can ban user\")\n",
    "Jack.privileges.show_privileges()"
   ]
  },
  {
   "cell_type": "markdown",
   "metadata": {},
   "source": [
    "## 第四题"
   ]
  },
  {
   "cell_type": "markdown",
   "metadata": {},
   "source": [
    "编写一个`while`循环，提示用户输入其名字。\n",
    "\n",
    "用户输入其名字后，在屏幕上打印一句问候语，并将一条访问记录添加到文件`guest_book.txt`中。\n",
    "\n",
    "确保这个文件中的每条记录都独占一行。 \n"
   ]
  },
  {
   "cell_type": "code",
   "execution_count": 13,
   "metadata": {},
   "outputs": [
    {
     "name": "stdout",
     "output_type": "stream",
     "text": [
      "Hello, 12, welcome!\n",
      "Hello, 34, welcome!\n"
     ]
    }
   ],
   "source": [
    "# 以追加模式打开文件，这样每次写入内容时会添加到文件末尾\n",
    "with open(\"guest_book.txt\", \"a\") as file:\n",
    "    while True:\n",
    "        # 提示用户输入名字\n",
    "        name = input(\"Please input your name ('quit' will break): \")\n",
    "        # 检查用户是否输入 'quit'，如果是则退出循环\n",
    "        if name.lower() == \"quit\":\n",
    "            break\n",
    "        # 打印问候语\n",
    "        print(f\"Hello, {name}, welcome!\")\n",
    "        # 将用户名字添加到文件中，并在末尾添加换行符\n",
    "        file.write(name + \"\\n\")"
   ]
  },
  {
   "cell_type": "markdown",
   "metadata": {},
   "source": [
    "## 第五题"
   ]
  },
  {
   "cell_type": "markdown",
   "metadata": {},
   "source": [
    "编写一个程序，提示用户输入他喜欢的数字，并使用`json.dump()`将这个数字存储到文件中。\n",
    "\n",
    "再编写一个程序，从文件中读取这个值，并打印消息“`I know your favorite number! It’s _____.`”。\n"
   ]
  },
  {
   "cell_type": "code",
   "execution_count": 14,
   "metadata": {},
   "outputs": [
    {
     "name": "stdout",
     "output_type": "stream",
     "text": [
      "你的喜欢的数字 23 已成功存储到 favorite_number.json 中。\n"
     ]
    }
   ],
   "source": [
    "import json\n",
    "\n",
    "# 提示用户输入喜欢的数字\n",
    "favorite_number = input(\"请输入你喜欢的数字: \")\n",
    "\n",
    "# 文件名\n",
    "filename = \"favorite_number.json\"\n",
    "\n",
    "try:\n",
    "    # 以写入模式打开文件\n",
    "    with open(filename, \"w\") as f:\n",
    "        # 使用 json.dump() 把数字存储到文件中\n",
    "        json.dump(favorite_number, f)\n",
    "    print(f\"你的喜欢的数字 {favorite_number} 已成功存储到 {filename} 中。\")\n",
    "except ValueError:\n",
    "    print(\"你输入的不是一个有效的数字，请输入整数。\")"
   ]
  },
  {
   "cell_type": "code",
   "execution_count": 15,
   "metadata": {},
   "outputs": [
    {
     "name": "stdout",
     "output_type": "stream",
     "text": [
      "I know your favorite number! It’s 23.\n"
     ]
    }
   ],
   "source": [
    "import json\n",
    "\n",
    "# 文件名\n",
    "filename = \"favorite_number.json\"\n",
    "\n",
    "try:\n",
    "    # 以读取模式打开文件\n",
    "    with open(filename) as f:\n",
    "        # 使用 json.load() 从文件中读取数字\n",
    "        favorite_number = json.load(f)\n",
    "    print(f\"I know your favorite number! It’s {favorite_number}.\")\n",
    "except FileNotFoundError:\n",
    "    print(f\"文件 {filename} 未找到，请先运行存储数字的程序。\")"
   ]
  },
  {
   "cell_type": "markdown",
   "metadata": {},
   "source": [
    "## 第六题"
   ]
  },
  {
   "cell_type": "markdown",
   "metadata": {},
   "source": [
    "将练习5中的两个程序合而为一。如果存储了用户喜欢的数字，就向用户显示它，\n",
    "\n",
    "否则提示用户输入他喜欢的数字并将其存储到文件中。\n",
    "\n",
    "运行这个程序两次，看看它是否像预期的那样工作。"
   ]
  },
  {
   "cell_type": "code",
   "execution_count": 16,
   "metadata": {},
   "outputs": [
    {
     "name": "stdout",
     "output_type": "stream",
     "text": [
      "I know your favorite number! It’s 150.\n"
     ]
    }
   ],
   "source": [
    "import json\n",
    "\n",
    "# 定义存储用户喜欢数字的文件名\n",
    "filename = \"favorite_numbers.json\"\n",
    "\n",
    "try:\n",
    "    # 尝试以读取模式打开文件\n",
    "    with open(filename) as f:\n",
    "        # 从文件中加载用户喜欢的数字\n",
    "        favorite_number = json.load(f)\n",
    "    # 如果成功读取到数字，向用户显示该数字\n",
    "    print(f\"I know your favorite number! It’s {favorite_number}.\")\n",
    "except FileNotFoundError:\n",
    "    # 如果文件不存在，提示用户输入喜欢的数字\n",
    "    favorite_number = input(\"请输入你喜欢的数字: \")\n",
    "    try:\n",
    "        # 尝试将输入转换为整数\n",
    "        favorite_number = int(favorite_number)\n",
    "        # 以写入模式打开文件\n",
    "        with open(filename, \"w\") as f:\n",
    "            # 将数字存储到文件中\n",
    "            json.dump(favorite_number, f)\n",
    "        print(f\"你的喜欢的数字 {favorite_number} 已成功存储到 {filename} 中。\")\n",
    "    except ValueError:\n",
    "        # 如果输入不是有效的整数，提示用户输入有效的整数\n",
    "        print(\"你输入的不是一个有效的数字，请输入整数。\")"
   ]
  },
  {
   "cell_type": "markdown",
   "metadata": {},
   "source": [
    "两次输出结果如下：\n",
    "\n",
    "你的喜欢的数字 150 已成功存储到 favorite_numbers.json 中。\n",
    "\n",
    "I know your favorite number! It’s 150."
   ]
  }
 ],
 "metadata": {
  "kernelspec": {
   "display_name": "DL",
   "language": "python",
   "name": "python3"
  },
  "language_info": {
   "codemirror_mode": {
    "name": "ipython",
    "version": 3
   },
   "file_extension": ".py",
   "mimetype": "text/x-python",
   "name": "python",
   "nbconvert_exporter": "python",
   "pygments_lexer": "ipython3",
   "version": "3.12.5"
  }
 },
 "nbformat": 4,
 "nbformat_minor": 2
}
