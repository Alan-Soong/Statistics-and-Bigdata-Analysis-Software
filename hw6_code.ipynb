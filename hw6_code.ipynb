{
 "cells": [
  {
   "cell_type": "markdown",
   "metadata": {},
   "source": [
    "# 统计与大数据分析软件第六次作业"
   ]
  },
  {
   "cell_type": "markdown",
   "metadata": {},
   "source": [
    "## 第一题"
   ]
  },
  {
   "cell_type": "markdown",
   "metadata": {},
   "source": [
    "如果有`dataframe df = pd.DataFrame({'X': [7, 2, 0, 3, 4, 2, 5, 0, 3, 4]})`, \n",
    "\n",
    "那么对于列X的每一个值，计算相对于离其最近的0的相对位置（如果前面没有0，则计算从头开始的位置），\n",
    "\n",
    "\n",
    "这样就会得到`[1, 2, 0, 1, 2, 3, 4, 0, 1, 2]`，我们可以把它作为df的新的列'Y'.\n",
    "\n",
    "问题：让用户输入任意一列整数，构造新的`dataframe`，以此列整数为列X，并按照上述方法计算新的列Y。"
   ]
  },
  {
   "cell_type": "markdown",
   "metadata": {},
   "source": [
    "首先我们导入`Pandas`的包："
   ]
  },
  {
   "cell_type": "code",
   "execution_count": 2,
   "metadata": {},
   "outputs": [],
   "source": [
    "import pandas as pd\n",
    "import numpy as np"
   ]
  },
  {
   "cell_type": "markdown",
   "metadata": {},
   "source": [
    "设计一段函数，实现我们的分割功能："
   ]
  },
  {
   "cell_type": "code",
   "execution_count": 3,
   "metadata": {},
   "outputs": [],
   "source": [
    "def compute_relative_position_pandas(series):\n",
    "    # 计算相对位置(使用numpy的函数标记索引为0的元素)\n",
    "    zero_mask = series.eq(0)\n",
    "    zero_indices = np.where(zero_mask)[0]\n",
    "    \n",
    "    # 初始化距离数组，并设置第一个0的索引（初始情况）\n",
    "    distances = np.zeros_like(series)\n",
    "    last_zero = -1\n",
    "    \n",
    "    # 遍历序列，计算每个元素到最近的0的距离\n",
    "    for i in range(len(series)):\n",
    "        if i in zero_indices:\n",
    "            last_zero = i # 更新最近的0的索引\n",
    "        distances[i] = i - last_zero    # 计算距离\n",
    "    \n",
    "    return pd.Series(distances, index=series.index)\n"
   ]
  },
  {
   "cell_type": "markdown",
   "metadata": {},
   "source": [
    "主程序如下："
   ]
  },
  {
   "cell_type": "code",
   "execution_count": 4,
   "metadata": {},
   "outputs": [
    {
     "name": "stdout",
     "output_type": "stream",
     "text": [
      "   X  Y\n",
      "0  2  1\n",
      "1  4  2\n",
      "2  5  3\n",
      "3  0  0\n",
      "4  4  1\n",
      "5  3  2\n",
      "6  8  3\n",
      "7  0  0\n",
      "8  1  1\n",
      "9  6  2\n",
      "   X  Y\n",
      "0  3  1\n",
      "1  7  2\n",
      "2  8  3\n",
      "3  2  4\n",
      "4  3  5\n",
      "5  1  6\n"
     ]
    }
   ],
   "source": [
    "for i in range(2):\n",
    "    user_input = input(\"请输入一列整数，用空格分隔: \")\n",
    "    numbers = [int(num) for num in user_input.split()]\n",
    "    df = pd.DataFrame({'X': numbers})\n",
    "    df['Y'] = compute_relative_position_pandas(df['X'])\n",
    "    print(df)"
   ]
  },
  {
   "cell_type": "markdown",
   "metadata": {},
   "source": [
    "## 第二题"
   ]
  },
  {
   "cell_type": "markdown",
   "metadata": {},
   "source": [
    "滑动平均：给定`dataframe`包含两列，一列为`group`，一列为`value`，\n",
    "\n",
    "例如`df = pd.DataFrame({'group': list('aabbabbbabab')`,`'value': [1, 2, 3, np.nan, 2, 3, np.nan, 1, 7, 3, np.nan, 8]})`\n",
    "\n",
    "请根据`group`的进行滑动平均，自己定义窗口尺寸，如遇到`nan`请忽略（注意不是作为0处理，是忽略）。\n",
    "\n",
    "例如上边的例子结果应为（窗口长度为3）：（此处视为6位，省略至小数点后4位）\n",
    "\n",
    "| 索引 | 0 | 1 | 2 | 3 | 4 | 5 | 6 | 7 | 8 | 9 | 10 | 11 |\n",
    "| :---: | :---: | :---: | :---: | :---: | :---: | :---: | :---: | :---: | :---: | :---: | :---: | :---: |\n",
    "| 值 | 1.0000 | 1.5000 | 3.0000 | 3.0000 | 1.6667 | 3.0000 | 3.0000 | 2.0000 | 3.6667 | 2.0000 | 4.5000 | 4.0000 |"
   ]
  },
  {
   "cell_type": "markdown",
   "metadata": {},
   "source": [
    "首先，导入相应的包："
   ]
  },
  {
   "cell_type": "code",
   "execution_count": 22,
   "metadata": {},
   "outputs": [],
   "source": [
    "import pandas as pd\n",
    "import numpy as np"
   ]
  },
  {
   "cell_type": "markdown",
   "metadata": {},
   "source": [
    "设计我们的主体函数："
   ]
  },
  {
   "cell_type": "code",
   "execution_count": 23,
   "metadata": {},
   "outputs": [],
   "source": [
    "def group_rolling_mean(df, window=3):\n",
    "    def rolling_avg(s):\n",
    "        return s.rolling(window, min_periods=1).mean()\n",
    "    \n",
    "    df['smoothed'] = df.groupby('group')['value'].transform(rolling_avg)\n",
    "    return df"
   ]
  },
  {
   "cell_type": "markdown",
   "metadata": {},
   "source": [
    "新建一个pandas表，如下："
   ]
  },
  {
   "cell_type": "code",
   "execution_count": 24,
   "metadata": {},
   "outputs": [
    {
     "data": {
      "text/html": [
       "<div>\n",
       "<style scoped>\n",
       "    .dataframe tbody tr th:only-of-type {\n",
       "        vertical-align: middle;\n",
       "    }\n",
       "\n",
       "    .dataframe tbody tr th {\n",
       "        vertical-align: top;\n",
       "    }\n",
       "\n",
       "    .dataframe thead th {\n",
       "        text-align: right;\n",
       "    }\n",
       "</style>\n",
       "<table border=\"1\" class=\"dataframe\">\n",
       "  <thead>\n",
       "    <tr style=\"text-align: right;\">\n",
       "      <th></th>\n",
       "      <th>group</th>\n",
       "      <th>value</th>\n",
       "    </tr>\n",
       "  </thead>\n",
       "  <tbody>\n",
       "    <tr>\n",
       "      <th>0</th>\n",
       "      <td>a</td>\n",
       "      <td>1.0</td>\n",
       "    </tr>\n",
       "    <tr>\n",
       "      <th>1</th>\n",
       "      <td>a</td>\n",
       "      <td>2.0</td>\n",
       "    </tr>\n",
       "    <tr>\n",
       "      <th>2</th>\n",
       "      <td>b</td>\n",
       "      <td>3.0</td>\n",
       "    </tr>\n",
       "    <tr>\n",
       "      <th>3</th>\n",
       "      <td>b</td>\n",
       "      <td>NaN</td>\n",
       "    </tr>\n",
       "    <tr>\n",
       "      <th>4</th>\n",
       "      <td>a</td>\n",
       "      <td>2.0</td>\n",
       "    </tr>\n",
       "    <tr>\n",
       "      <th>5</th>\n",
       "      <td>b</td>\n",
       "      <td>3.0</td>\n",
       "    </tr>\n",
       "    <tr>\n",
       "      <th>6</th>\n",
       "      <td>b</td>\n",
       "      <td>NaN</td>\n",
       "    </tr>\n",
       "    <tr>\n",
       "      <th>7</th>\n",
       "      <td>b</td>\n",
       "      <td>1.0</td>\n",
       "    </tr>\n",
       "    <tr>\n",
       "      <th>8</th>\n",
       "      <td>a</td>\n",
       "      <td>7.0</td>\n",
       "    </tr>\n",
       "    <tr>\n",
       "      <th>9</th>\n",
       "      <td>b</td>\n",
       "      <td>3.0</td>\n",
       "    </tr>\n",
       "    <tr>\n",
       "      <th>10</th>\n",
       "      <td>a</td>\n",
       "      <td>NaN</td>\n",
       "    </tr>\n",
       "    <tr>\n",
       "      <th>11</th>\n",
       "      <td>b</td>\n",
       "      <td>8.0</td>\n",
       "    </tr>\n",
       "  </tbody>\n",
       "</table>\n",
       "</div>"
      ],
      "text/plain": [
       "   group  value\n",
       "0      a    1.0\n",
       "1      a    2.0\n",
       "2      b    3.0\n",
       "3      b    NaN\n",
       "4      a    2.0\n",
       "5      b    3.0\n",
       "6      b    NaN\n",
       "7      b    1.0\n",
       "8      a    7.0\n",
       "9      b    3.0\n",
       "10     a    NaN\n",
       "11     b    8.0"
      ]
     },
     "execution_count": 24,
     "metadata": {},
     "output_type": "execute_result"
    }
   ],
   "source": [
    "df = pd.DataFrame({'group': list('aabbabbbabab'),\n",
    "                   'value': [1, 2, 3, np.nan, 2, 3, np.nan, 1, 7, 3, np.nan, 8]})\n",
    "df"
   ]
  },
  {
   "cell_type": "markdown",
   "metadata": {},
   "source": [
    "调用我们的函数得出计算结果："
   ]
  },
  {
   "cell_type": "code",
   "execution_count": 30,
   "metadata": {},
   "outputs": [
    {
     "name": "stdout",
     "output_type": "stream",
     "text": [
      "[1.0, 1.5, 3.0, 3.0, 1.666667, 3.0, 3.0, 2.0, 3.666667, 2.0, 4.5, 4.0]\n",
      "           值\n",
      "索引          \n",
      "0   1.000000\n",
      "1   1.500000\n",
      "2   3.000000\n",
      "3   3.000000\n",
      "4   1.666667\n",
      "5   3.000000\n",
      "6   3.000000\n",
      "7   2.000000\n",
      "8   3.666667\n",
      "9   2.000000\n",
      "10  4.500000\n",
      "11  4.000000\n"
     ]
    }
   ],
   "source": [
    "df_result = group_rolling_mean(df, window=3)\n",
    "print(df_result['smoothed'].round(6).tolist())\n",
    "\n",
    "output_df = pd.DataFrame({\n",
    "    '索引': df.index,\n",
    "    '值': df_result['smoothed'].round(6)\n",
    "})\n",
    "\n",
    "# 设置索引列\n",
    "output_df.set_index('索引', inplace=True)\n",
    "\n",
    "# 输出\n",
    "print(output_df)"
   ]
  },
  {
   "cell_type": "markdown",
   "metadata": {},
   "source": [
    "我们还可以调整窗口大小："
   ]
  },
  {
   "cell_type": "code",
   "execution_count": 31,
   "metadata": {},
   "outputs": [
    {
     "name": "stdout",
     "output_type": "stream",
     "text": [
      "窗口大小： 4\n",
      "[1.0, 1.5, 3.0, 3.0, 1.666667, 3.0, 3.0, 2.0, 3.0, 2.333333, 3.666667, 4.0]\n",
      "           值\n",
      "索引          \n",
      "0   1.000000\n",
      "1   1.500000\n",
      "2   3.000000\n",
      "3   3.000000\n",
      "4   1.666667\n",
      "5   3.000000\n",
      "6   3.000000\n",
      "7   2.000000\n",
      "8   3.000000\n",
      "9   2.333333\n",
      "10  3.666667\n",
      "11  4.000000\n"
     ]
    }
   ],
   "source": [
    "window = int(input(\"请输入窗口大小: \"))\n",
    "df0_result = group_rolling_mean(df, window)\n",
    "print(\"窗口大小：\", window)\n",
    "print(df0_result['smoothed'].round(6).tolist())\n",
    "\n",
    "output_df0 = pd.DataFrame({\n",
    "    '索引': df.index,\n",
    "    '值': df0_result['smoothed'].round(6)\n",
    "})\n",
    "\n",
    "# 设置索引列\n",
    "output_df0.set_index('索引', inplace=True)\n",
    "\n",
    "# 输出\n",
    "print(output_df0)"
   ]
  },
  {
   "cell_type": "markdown",
   "metadata": {},
   "source": [
    "## 第三题"
   ]
  },
  {
   "cell_type": "markdown",
   "metadata": {},
   "source": [
    "扫雷游戏。创建一个dataframe来模拟扫雷游戏：\n",
    "\n",
    "(1) 创建一个扫雷游戏，即创建一个dataframe，包含两列X和Y，例如5*4的扫雷游戏，\n",
    "\n",
    "这个dataframe分别记录5*4个格子的坐标，这个dataframe为两列，20行，它的一部分如下：\n",
    "\n",
    "|   | x | y |\n",
    "| :---: | :---: | :---: |\n",
    "| 0 | 0 | 0 |\n",
    "| 1 | 0 | 1 |\n",
    "| 2 | 0 | 2 |\n",
    "\n",
    "（2）增加一列，此列为格子是否为雷，如果是的话值为1，否则为0. （使用随机函数，每个位置为雷的概率为0.4）\n",
    "\n",
    "（3）再增加一列adjacent，此列记录当前格子相邻的格子的雷的数目，如果当前格子为雷，则值为NaN。\n",
    "\n",
    "（4）创建一个新的5行4列的dataframe，其中值为(3)中计算得到的雷的数目。"
   ]
  },
  {
   "cell_type": "markdown",
   "metadata": {},
   "source": [
    "首先，我们需要导入必要的库："
   ]
  },
  {
   "cell_type": "code",
   "execution_count": 11,
   "metadata": {},
   "outputs": [],
   "source": [
    "import pandas as pd\n",
    "import numpy as np"
   ]
  },
  {
   "cell_type": "markdown",
   "metadata": {},
   "source": [
    "对于第一题，我们先建立一个`dataframe`:"
   ]
  },
  {
   "cell_type": "markdown",
   "metadata": {},
   "source": [
    "1. 创建 5×4 的坐标dataframe"
   ]
  },
  {
   "cell_type": "code",
   "execution_count": 13,
   "metadata": {},
   "outputs": [
    {
     "name": "stdout",
     "output_type": "stream",
     "text": [
      "初始坐标：(5, 4)\n",
      "   x  y\n",
      "0  0  0\n",
      "1  0  1\n",
      "2  0  2\n",
      "3  0  3\n",
      "4  1  0\n"
     ]
    }
   ],
   "source": [
    "user_input = input(\"请输入两个整数，用空格分隔: \")\n",
    "X, Y = [int(num) for num in user_input.split()]\n",
    "\n",
    "# 构造所有 (x, y) 坐标，其中 x 从 0 到 X-1，y 从 0 到 Y-1\n",
    "coords = [(x, y) for x in range(X) for y in range(Y)]\n",
    "df = pd.DataFrame(coords, columns=['x', 'y'])\n",
    "print(f\"初始坐标：({X}, {Y})\")\n",
    "print(df.head()) # 为了美观我们转置输出"
   ]
  },
  {
   "cell_type": "markdown",
   "metadata": {},
   "source": [
    "2. 增加一列表示是否为雷（1为雷，0为非雷），每个格子成为雷的概率为 0.4"
   ]
  },
  {
   "cell_type": "code",
   "execution_count": 14,
   "metadata": {},
   "outputs": [
    {
     "name": "stdout",
     "output_type": "stream",
     "text": [
      "\n",
      "增加雷标记后：\n",
      "   x  y  bomb\n",
      "0  0  0     0\n",
      "1  0  1     0\n",
      "2  0  2     0\n",
      "3  0  3     0\n",
      "4  1  0     0\n",
      "5  1  1     0\n",
      "6  1  2     0\n",
      "7  1  3     0\n",
      "8  2  0     0\n",
      "9  2  1     1\n"
     ]
    }
   ],
   "source": [
    "np.random.seed(0)  # 固定随机种子，便于结果复现\n",
    "df['bomb'] = np.random.choice([1, 0], size=len(df), p=[0.4, 0.6])\n",
    "print(\"\\n增加雷标记后：\")\n",
    "print(df.head(10))"
   ]
  },
  {
   "cell_type": "markdown",
   "metadata": {},
   "source": [
    "3. 增加一列记录相邻格子中雷的个数，若当前格子本身为雷，则该值为 NaN"
   ]
  },
  {
   "cell_type": "code",
   "execution_count": 15,
   "metadata": {},
   "outputs": [],
   "source": [
    "# 定义一个函数来计算相邻格子中的雷数\n",
    "def count_adjacent_bombs(row, df):\n",
    "    # 如果本身为雷，则返回NaN\n",
    "    if row['bomb'] == 1:\n",
    "        return np.nan\n",
    "    # x,y坐标\n",
    "    x, y = row['x'], row['y']\n",
    "    # 定义相邻坐标的范围（注意边界）\n",
    "    adjacent = df[\n",
    "        (df['x'] >= x-1) & (df['x'] <= x+1) &\n",
    "        (df['y'] >= y-1) & (df['y'] <= y+1) &\n",
    "        ~((df['x'] == x) & (df['y'] == y))  # 排除本身\n",
    "    ]\n",
    "    # 返回相邻格子中雷的个数\n",
    "    return adjacent['bomb'].sum()"
   ]
  },
  {
   "cell_type": "code",
   "execution_count": 16,
   "metadata": {},
   "outputs": [
    {
     "name": "stdout",
     "output_type": "stream",
     "text": [
      "\n",
      "增加相邻雷数后：\n",
      "   x  y  bomb  adjacent\n",
      "0  0  0     0       0.0\n",
      "1  0  1     0       0.0\n",
      "2  0  2     0       0.0\n",
      "3  0  3     0       0.0\n",
      "4  1  0     0       1.0\n",
      "5  1  1     0       1.0\n",
      "6  1  2     0       1.0\n",
      "7  1  3     0       0.0\n",
      "8  2  0     0       1.0\n",
      "9  2  1     1       NaN\n"
     ]
    }
   ],
   "source": [
    "df['adjacent'] = df.apply(lambda row: count_adjacent_bombs(row, df), axis=1)\n",
    "print(\"\\n增加相邻雷数后：\")\n",
    "print(df.head(10))"
   ]
  },
  {
   "cell_type": "markdown",
   "metadata": {},
   "source": [
    "4. 创建一个新的 5×4 的dataframe，其中的值为 (3) 中计算得到的相邻雷数"
   ]
  },
  {
   "cell_type": "code",
   "execution_count": 17,
   "metadata": {},
   "outputs": [
    {
     "name": "stdout",
     "output_type": "stream",
     "text": [
      "\n",
      "5行4列的相邻雷数矩阵：\n",
      "y    0    1    2    3\n",
      "x                    \n",
      "0  0.0  0.0  0.0  0.0\n",
      "1  1.0  1.0  1.0  0.0\n",
      "2  1.0  NaN  3.0  2.0\n",
      "3  2.0  3.0  NaN  NaN\n",
      "4  NaN  2.0  2.0  2.0\n"
     ]
    }
   ],
   "source": [
    "# 使用 pivot 将原 dataframe 重构为二维矩阵\n",
    "grid = df.pivot(index='x', columns='y', values='adjacent')\n",
    "print(f\"\\n{X}行{Y}列的相邻雷数矩阵：\")\n",
    "print(grid)"
   ]
  },
  {
   "cell_type": "markdown",
   "metadata": {},
   "source": []
  }
 ],
 "metadata": {
  "kernelspec": {
   "display_name": "DL",
   "language": "python",
   "name": "python3"
  },
  "language_info": {
   "codemirror_mode": {
    "name": "ipython",
    "version": 3
   },
   "file_extension": ".py",
   "mimetype": "text/x-python",
   "name": "python",
   "nbconvert_exporter": "python",
   "pygments_lexer": "ipython3",
   "version": "3.12.5"
  }
 },
 "nbformat": 4,
 "nbformat_minor": 2
}
