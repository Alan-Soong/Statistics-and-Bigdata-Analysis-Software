{
 "cells": [
  {
   "cell_type": "markdown",
   "id": "9baca2a8",
   "metadata": {},
   "source": [
    "# 统计与大数据分析软件第二次作业"
   ]
  },
  {
   "cell_type": "markdown",
   "id": "3534b65e",
   "metadata": {},
   "source": [
    "## 第一题"
   ]
  },
  {
   "cell_type": "markdown",
   "id": "9f19e93d",
   "metadata": {},
   "source": [
    "熟食店：创建一个名为sandwich_orders 的列表，在其中包含各种三明治的名字；\n",
    "\n",
    "再创建一个名为finished_sandwiches 的空列表。\n",
    "\n",
    "遍历列表sandwich_orders，对于其中的每种三明治，都打印一条消息，如I made your tuna sandwich，并将其移到列表finished_sandwiches。\n",
    "\n",
    "所有三明治都制作好后，打印一条消息，将这些三明治列出来。"
   ]
  },
  {
   "cell_type": "code",
   "execution_count": 2,
   "id": "2a76d214",
   "metadata": {},
   "outputs": [
    {
     "name": "stdout",
     "output_type": "stream",
     "text": [
      "I made your tuna sandwich.\n",
      "I made your beef sandwich.\n",
      "I made your chicken sandwich.\n",
      "\n",
      "Finished Sandwiches:\n",
      "tuna sandwich\n",
      "beef sandwich\n",
      "chicken sandwich\n",
      "\n"
     ]
    }
   ],
   "source": [
    "sandwich_orders = ['tuna sandwich', 'beef sandwich', 'chicken sandwich']\n",
    "\n",
    "finished_sandwiches = []\n",
    "\n",
    "while sandwich_orders:\n",
    "    current_sandwich = sandwich_orders.pop(0)\n",
    "    print(f\"I made your {current_sandwich}.\")\n",
    "    finished_sandwiches.append(current_sandwich)\n",
    "\n",
    "print(\"\\nFinished Sandwiches:\")\n",
    "for sandwich in finished_sandwiches:\n",
    "    print(sandwich)\n",
    "\n",
    "print()"
   ]
  },
  {
   "cell_type": "markdown",
   "id": "7514dd77",
   "metadata": {},
   "source": [
    "## 第二题"
   ]
  },
  {
   "cell_type": "markdown",
   "id": "6c07fc22",
   "metadata": {},
   "source": [
    "五香烟熏牛肉（pastrami）卖完了：\n",
    "\n",
    "与1相似，创建列表sandwich_orders，并确保'pastrami'在其中至少出现了三次。\n",
    "\n",
    "在程序开头附近添加这样的代码：打印一条消息，指出熟食店的五香烟熏牛肉卖完了；\n",
    "\n",
    "再使用一个while 循环将列表sandwich_orders 中的'pastrami'都删除。\n",
    "\n",
    "确认最终的列表finished_sandwiches 中不包含'pastrami'。"
   ]
  },
  {
   "cell_type": "code",
   "execution_count": 3,
   "id": "9e7089e4",
   "metadata": {},
   "outputs": [
    {
     "name": "stdout",
     "output_type": "stream",
     "text": [
      "The deli has run out of pastrami.\n",
      "\n",
      "['tuna sandwich', 'beef sandwich', 'chicken sandwich']\n",
      "\n"
     ]
    }
   ],
   "source": [
    "sandwich_orders = ['pastrami', 'tuna sandwich', 'beef sandwich', 'chicken sandwich', 'pastrami', 'pastrami']\n",
    "print(\"The deli has run out of pastrami.\")\n",
    "\n",
    "while 'pastrami' in sandwich_orders:\n",
    "    sandwich_orders.remove('pastrami') # Remove all instances of 'pastrami' from the list.\n",
    "\n",
    "finished_sandwiches = sandwich_orders\n",
    "print()\n",
    "print(finished_sandwiches)\n",
    "print()"
   ]
  },
  {
   "cell_type": "markdown",
   "id": "dbd92516",
   "metadata": {},
   "source": [
    "## 第三题"
   ]
  },
  {
   "cell_type": "markdown",
   "id": "4fd2f1f7",
   "metadata": {},
   "source": [
    "梦想的度假胜地：编写一个程序，调查用户梦想的度假胜地。\n",
    "\n",
    "使用类似于“If you could visit one place in the world, where would you go?”的提示，\n",
    "\n",
    "并编写一个打印调查结果的代码块。"
   ]
  },
  {
   "cell_type": "code",
   "execution_count": 4,
   "id": "1f1d4b4f",
   "metadata": {},
   "outputs": [
    {
     "name": "stdout",
     "output_type": "stream",
     "text": [
      "If you could visit one place in the world, where would you go?\n",
      "{'杭州', '天津', '上海', '北京', '成都', '广州', '重庆'}\n"
     ]
    }
   ],
   "source": [
    "dream_place = set()\n",
    "\n",
    "def add_place(place):\n",
    "    dream_place.add(place)\n",
    "\n",
    "def show_place():\n",
    "    print(dream_place)\n",
    "\n",
    "if __name__ == \"__main__\":\n",
    "    print(\"If you could visit one place in the world, where would you go?\")\n",
    "    add_place(\"北京\")\n",
    "    add_place(\"上海\")\n",
    "    add_place(\"广州\")\n",
    "    add_place(\"天津\")\n",
    "    add_place(\"北京\") # 调查可能有重复值\n",
    "    add_place(\"重庆\")\n",
    "    add_place(\"成都\")\n",
    "    add_place(\"杭州\")\n",
    "    show_place()"
   ]
  },
  {
   "cell_type": "markdown",
   "id": "518e7136",
   "metadata": {},
   "source": [
    "## 第四题"
   ]
  },
  {
   "cell_type": "markdown",
   "id": "227064f1",
   "metadata": {},
   "source": [
    "大饼卷一切：编写一个函数，它接受顾客要在大饼中添加的一系列食材。\n",
    "\n",
    "这个函数只有一个形参（它收集函数调用中提供的所有食材），并打印一条消息，对顾客点的大饼卷一切进行概述。\n",
    "\n",
    "调用这个函数三次，每次都提供不同数量的实参。"
   ]
  },
  {
   "cell_type": "code",
   "execution_count": 5,
   "id": "1ab89e27",
   "metadata": {},
   "outputs": [
    {
     "name": "stdout",
     "output_type": "stream",
     "text": [
      "Making a big pancake roll with the following ingredients:\n",
      "- egg\n",
      "- bacon\n",
      "- lettuce\n",
      "- mayo\n",
      "\n",
      "Making a big pancake roll with the following ingredients:\n",
      "- cucumber\n",
      "\n",
      "Making a big pancake roll with the following ingredients:\n",
      "- ham\n",
      "- cheese\n",
      "\n",
      "You didn't add any ingredients to the pancake roll.\n",
      "\n"
     ]
    }
   ],
   "source": [
    "def make_big_pancake_roll(*ingredients):\n",
    "    if ingredients:\n",
    "        print(\"Making a big pancake roll with the following ingredients:\")\n",
    "        for ingredient in ingredients:\n",
    "            print(f\"- {ingredient}\")\n",
    "        print()\n",
    "    else:\n",
    "        print(\"You didn't add any ingredients to the pancake roll.\\n\")\n",
    "\n",
    "if __name__ == \"__main__\":\n",
    "    make_big_pancake_roll(\"egg\", \"bacon\", \"lettuce\", \"mayo\")\n",
    "    make_big_pancake_roll(\"cucumber\")\n",
    "    make_big_pancake_roll(\"ham\", \"cheese\")\n",
    "    make_big_pancake_roll()"
   ]
  },
  {
   "cell_type": "markdown",
   "id": "19b8c073",
   "metadata": {},
   "source": [
    "## 第五题"
   ]
  },
  {
   "cell_type": "markdown",
   "id": "58f2b4b2",
   "metadata": {},
   "source": [
    "同学：编写一个函数，将班级同学的信息存储在一个字典中。\n",
    "\n",
    "这个函数总是接受姓名和学号，还接受任意数量的关键字实参。这样调用这个函数：提供必不可少的信息，以及两个名称—值对。\n",
    "\n",
    "这个函数必须能够像下面这样进行调用：\n",
    "\n",
    "car = classmate('Li', 'Lei', gender='male', age=18)打印返回的字典，确认正确地处理了所有的信息。"
   ]
  },
  {
   "cell_type": "code",
   "execution_count": null,
   "id": "f417b6fe",
   "metadata": {},
   "outputs": [
    {
     "name": "stdout",
     "output_type": "stream",
     "text": [
      "{'name': 'li', 'number': 20231003, 'gender': 'male', 'age': 20}\n",
      "{'name': 'AD', 'number': '123456', 'gender': 'male', 'age': '20'}\n",
      "{'name': 'AS', 'number': '102938', 'gender': 'male', 'age': '23'}\n",
      "{'name': 'DS', 'number': '232382', 'gender': 'female', 'age': '21'}\n",
      "{'name': 'ASK', 'number': '182642', 'gender': 'male', 'age': '20'}\n",
      "[{'name': 'li', 'number': 20231003, 'gender': 'male', 'age': 20}, {'name': 'AD', 'number': '123456', 'gender': 'male', 'age': '20'}, {'name': 'AS', 'number': '102938', 'gender': 'male', 'age': '23'}, {'name': 'DS', 'number': '232382', 'gender': 'female', 'age': '21'}, {'name': 'ASK', 'number': '182642', 'gender': 'male', 'age': '20'}]\n"
     ]
    }
   ],
   "source": [
    "def classmates(student_name, student_number, **info):\n",
    "    classmates_info={\n",
    "        'name':student_name,\n",
    "        'number':student_number,\n",
    "    }\n",
    "    classmates_info.update(info)\n",
    "    return classmates_info\n",
    "\n",
    "numbers = []\n",
    "classmate = classmates('li', 20231003, gender='male', age=20)\n",
    "print(classmate)\n",
    "numbers.append(classmate)\n",
    "\n",
    "while True:\n",
    "    student_name = input('请输入同学姓名（输入exit可退出）：')\n",
    "    if student_name == 'quit':\n",
    "        break\n",
    "    student_number = input('请输入同学学号（输入exit可退出）：')\n",
    "    if student_number == 'quit':\n",
    "        break\n",
    "    student_gender = input('请输入同学性别（male/female，输入exit可退出）：')\n",
    "    if student_gender != 'male' and student_gender!='female':\n",
    "        break\n",
    "    student_age = input('请输入同学年龄（输入exit可退出）：')\n",
    "    if student_age == 'quit':\n",
    "        break\n",
    "    classmate0 = classmates(student_name, student_number, gender=student_gender, age=student_age)\n",
    "    print(classmate0)\n",
    "    numbers.append(classmate0)\n",
    "\n",
    "print(numbers)        "
   ]
  }
 ],
 "metadata": {
  "kernelspec": {
   "display_name": "DL",
   "language": "python",
   "name": "python3"
  },
  "language_info": {
   "codemirror_mode": {
    "name": "ipython",
    "version": 3
   },
   "file_extension": ".py",
   "mimetype": "text/x-python",
   "name": "python",
   "nbconvert_exporter": "python",
   "pygments_lexer": "ipython3",
   "version": "3.12.3"
  }
 },
 "nbformat": 4,
 "nbformat_minor": 5
}
